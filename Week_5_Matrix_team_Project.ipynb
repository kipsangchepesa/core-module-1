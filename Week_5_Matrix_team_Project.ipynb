{
  "nbformat": 4,
  "nbformat_minor": 0,
  "metadata": {
    "colab": {
      "name": "Week 5: Matrix team Project.ipynb",
      "provenance": [],
      "collapsed_sections": [
        "yjonJGNnYwoc"
      ],
      "include_colab_link": true
    },
    "kernelspec": {
      "name": "python3",
      "display_name": "Python 3"
    },
    "language_info": {
      "name": "python"
    }
  },
  "cells": [
    {
      "cell_type": "markdown",
      "metadata": {
        "id": "view-in-github",
        "colab_type": "text"
      },
      "source": [
        "<a href=\"https://colab.research.google.com/github/kipsangchepesa/core-module-1/blob/main/Week_5_Matrix_team_Project.ipynb\" target=\"_parent\"><img src=\"https://colab.research.google.com/assets/colab-badge.svg\" alt=\"Open In Colab\"/></a>"
      ]
    },
    {
      "cell_type": "markdown",
      "metadata": {
        "id": "yjonJGNnYwoc"
      },
      "source": [
        "## 1. Defining the question"
      ]
    },
    {
      "cell_type": "markdown",
      "metadata": {
        "id": "jPlriVudY0oQ"
      },
      "source": [
        "### a) Specifying the Data Analytic Question"
      ]
    },
    {
      "cell_type": "markdown",
      "metadata": {
        "id": "jMfBNc0QY3xe"
      },
      "source": [
        "To carry out exploratory data analysis to identify the trends and causes of fatalities in Australian roads. "
      ]
    },
    {
      "cell_type": "markdown",
      "metadata": {
        "id": "n7FS_CQ5Y7Ni"
      },
      "source": [
        "### b) Defining the Metric for Success"
      ]
    },
    {
      "cell_type": "markdown",
      "metadata": {
        "id": "t59IPszgY8GW"
      },
      "source": [
        "To be able to carry out the analysis and identify trends in the road fatalities"
      ]
    },
    {
      "cell_type": "markdown",
      "metadata": {
        "id": "XZZUR89DY81m"
      },
      "source": [
        "### c) Understanding the context "
      ]
    },
    {
      "cell_type": "markdown",
      "metadata": {
        "id": "nlL0T7QTZAJ5"
      },
      "source": [
        "According to research, there have been more than 189,000 deaths on Australia’s roads. Approximately four people die and 90 people are seriously injured each day. The cost of road trauma to the Australian community is tragic and widespread.\n",
        "Our project focuses on analyzing crash fatalities data in Australia according to several factors, including gender, age, state,  age group, type of road users, day of the week, and time of the week.\n"
      ]
    },
    {
      "cell_type": "markdown",
      "metadata": {
        "id": "OAwlRFioZA9z"
      },
      "source": [
        "### d) Recording the Experimental Design"
      ]
    },
    {
      "cell_type": "markdown",
      "metadata": {
        "id": "cZFT8LVRZD4P"
      },
      "source": [
        "1. Loading the dataset to the environment\n",
        "2. Previewing the data\n",
        "3. Performing data cleaning\n",
        "4. Exploratory data analysis\n",
        "5. Hypothesis testing"
      ]
    },
    {
      "cell_type": "markdown",
      "metadata": {
        "id": "U3EzrniAZGCh"
      },
      "source": [
        "### e) Data Relevance"
      ]
    },
    {
      "cell_type": "markdown",
      "metadata": {
        "id": "hUSeDH_lZJCb"
      },
      "source": [
        "The data is relevant because it has up to date information on road accidents in Australia. This will allow us to analyze the data effectively."
      ]
    },
    {
      "cell_type": "markdown",
      "metadata": {
        "id": "2-cm1w42K_W0"
      },
      "source": [
        "## 2. Reading the data"
      ]
    },
    {
      "cell_type": "code",
      "metadata": {
        "id": "w5a-pJSCLIQ6"
      },
      "source": [
        "# Importing the libraries\n",
        "import numpy as np\n",
        "import pandas as pd\n",
        "import seaborn as sns\n",
        "import matplotlib.pyplot as plt"
      ],
      "execution_count": null,
      "outputs": []
    },
    {
      "cell_type": "code",
      "metadata": {
        "id": "redUftWQLXCn",
        "colab": {
          "base_uri": "https://localhost:8080/"
        },
        "outputId": "8b0050dd-09b7-4570-aade-0dd7758340d8"
      },
      "source": [
        "# Loading the data\n",
        "df = pd.read_csv('/content/Crash_Data.csv')"
      ],
      "execution_count": null,
      "outputs": [
        {
          "output_type": "stream",
          "name": "stderr",
          "text": [
            "/usr/local/lib/python3.7/dist-packages/IPython/core/interactiveshell.py:2718: DtypeWarning: Columns (10,14,15,16,17) have mixed types.Specify dtype option on import or set low_memory=False.\n",
            "  interactivity=interactivity, compiler=compiler, result=result)\n"
          ]
        }
      ]
    },
    {
      "cell_type": "markdown",
      "metadata": {
        "id": "YnuT8s3Gbv_u"
      },
      "source": [
        "## 3. Checking the Data"
      ]
    },
    {
      "cell_type": "code",
      "metadata": {
        "colab": {
          "base_uri": "https://localhost:8080/",
          "height": 411
        },
        "id": "CjuHyS88M0kW",
        "outputId": "ccb541d2-01a8-4c84-f956-1fe02ae3b23f"
      },
      "source": [
        "# Previewing the data\n",
        "df.head()"
      ],
      "execution_count": null,
      "outputs": [
        {
          "output_type": "execute_result",
          "data": {
            "text/html": [
              "<div>\n",
              "<style scoped>\n",
              "    .dataframe tbody tr th:only-of-type {\n",
              "        vertical-align: middle;\n",
              "    }\n",
              "\n",
              "    .dataframe tbody tr th {\n",
              "        vertical-align: top;\n",
              "    }\n",
              "\n",
              "    .dataframe thead th {\n",
              "        text-align: right;\n",
              "    }\n",
              "</style>\n",
              "<table border=\"1\" class=\"dataframe\">\n",
              "  <thead>\n",
              "    <tr style=\"text-align: right;\">\n",
              "      <th></th>\n",
              "      <th>Crash ID</th>\n",
              "      <th>State</th>\n",
              "      <th>Month</th>\n",
              "      <th>Year</th>\n",
              "      <th>Dayweek</th>\n",
              "      <th>Time</th>\n",
              "      <th>Crash Type</th>\n",
              "      <th>Bus Involvement</th>\n",
              "      <th>Heavy Rigid Truck Involvement</th>\n",
              "      <th>Articulated Truck Involvement</th>\n",
              "      <th>Speed Limit</th>\n",
              "      <th>Road User</th>\n",
              "      <th>Gender</th>\n",
              "      <th>Age</th>\n",
              "      <th>National Remoteness Areas</th>\n",
              "      <th>SA4 Name 2016</th>\n",
              "      <th>National LGA Name 2017</th>\n",
              "      <th>National Road Type</th>\n",
              "      <th>Christmas Period</th>\n",
              "      <th>Easter Period</th>\n",
              "      <th>Age Group</th>\n",
              "      <th>Day of week</th>\n",
              "      <th>Time of day</th>\n",
              "    </tr>\n",
              "  </thead>\n",
              "  <tbody>\n",
              "    <tr>\n",
              "      <th>0</th>\n",
              "      <td>20212133</td>\n",
              "      <td>Vic</td>\n",
              "      <td>9</td>\n",
              "      <td>2021</td>\n",
              "      <td>Sunday</td>\n",
              "      <td>0:30</td>\n",
              "      <td>Single</td>\n",
              "      <td>NaN</td>\n",
              "      <td>NaN</td>\n",
              "      <td>NaN</td>\n",
              "      <td>NaN</td>\n",
              "      <td>Motorcycle rider</td>\n",
              "      <td>Male</td>\n",
              "      <td>38</td>\n",
              "      <td>Inner Regional Australia</td>\n",
              "      <td>Melbourne - Outer East</td>\n",
              "      <td>Yarra Ranges (S)</td>\n",
              "      <td>Arterial Road</td>\n",
              "      <td>No</td>\n",
              "      <td>No</td>\n",
              "      <td>26_to_39</td>\n",
              "      <td>Weekend</td>\n",
              "      <td>Night</td>\n",
              "    </tr>\n",
              "    <tr>\n",
              "      <th>1</th>\n",
              "      <td>20214022</td>\n",
              "      <td>SA</td>\n",
              "      <td>9</td>\n",
              "      <td>2021</td>\n",
              "      <td>Saturday</td>\n",
              "      <td>23:31</td>\n",
              "      <td>Multiple</td>\n",
              "      <td>No</td>\n",
              "      <td>No</td>\n",
              "      <td>No</td>\n",
              "      <td>110</td>\n",
              "      <td>Pedestrian</td>\n",
              "      <td>Female</td>\n",
              "      <td>28</td>\n",
              "      <td>Major Cities of Australia</td>\n",
              "      <td>Adelaide - North</td>\n",
              "      <td>Playford (C)</td>\n",
              "      <td>NaN</td>\n",
              "      <td>No</td>\n",
              "      <td>No</td>\n",
              "      <td>26_to_39</td>\n",
              "      <td>Weekend</td>\n",
              "      <td>Night</td>\n",
              "    </tr>\n",
              "    <tr>\n",
              "      <th>2</th>\n",
              "      <td>20212096</td>\n",
              "      <td>Vic</td>\n",
              "      <td>9</td>\n",
              "      <td>2021</td>\n",
              "      <td>Saturday</td>\n",
              "      <td>23:00</td>\n",
              "      <td>Single</td>\n",
              "      <td>NaN</td>\n",
              "      <td>NaN</td>\n",
              "      <td>NaN</td>\n",
              "      <td>NaN</td>\n",
              "      <td>Passenger</td>\n",
              "      <td>Male</td>\n",
              "      <td>19</td>\n",
              "      <td>Inner Regional Australia</td>\n",
              "      <td>Hume</td>\n",
              "      <td>Wangaratta (RC)</td>\n",
              "      <td>Access road</td>\n",
              "      <td>No</td>\n",
              "      <td>No</td>\n",
              "      <td>17_to_25</td>\n",
              "      <td>Weekend</td>\n",
              "      <td>Night</td>\n",
              "    </tr>\n",
              "    <tr>\n",
              "      <th>3</th>\n",
              "      <td>20212145</td>\n",
              "      <td>Vic</td>\n",
              "      <td>9</td>\n",
              "      <td>2021</td>\n",
              "      <td>Saturday</td>\n",
              "      <td>22:25</td>\n",
              "      <td>Single</td>\n",
              "      <td>NaN</td>\n",
              "      <td>NaN</td>\n",
              "      <td>NaN</td>\n",
              "      <td>NaN</td>\n",
              "      <td>Driver</td>\n",
              "      <td>Male</td>\n",
              "      <td>23</td>\n",
              "      <td>Outer Regional Australia</td>\n",
              "      <td>Hume</td>\n",
              "      <td>Wangaratta (RC)</td>\n",
              "      <td>Arterial Road</td>\n",
              "      <td>No</td>\n",
              "      <td>No</td>\n",
              "      <td>17_to_25</td>\n",
              "      <td>Weekend</td>\n",
              "      <td>Night</td>\n",
              "    </tr>\n",
              "    <tr>\n",
              "      <th>4</th>\n",
              "      <td>20212075</td>\n",
              "      <td>Vic</td>\n",
              "      <td>9</td>\n",
              "      <td>2021</td>\n",
              "      <td>Saturday</td>\n",
              "      <td>5:15</td>\n",
              "      <td>Single</td>\n",
              "      <td>NaN</td>\n",
              "      <td>NaN</td>\n",
              "      <td>NaN</td>\n",
              "      <td>NaN</td>\n",
              "      <td>Motorcycle rider</td>\n",
              "      <td>Male</td>\n",
              "      <td>46</td>\n",
              "      <td>Major Cities of Australia</td>\n",
              "      <td>Melbourne - South East</td>\n",
              "      <td>Casey (C)</td>\n",
              "      <td>Local Road</td>\n",
              "      <td>No</td>\n",
              "      <td>No</td>\n",
              "      <td>40_to_64</td>\n",
              "      <td>Weekend</td>\n",
              "      <td>Night</td>\n",
              "    </tr>\n",
              "  </tbody>\n",
              "</table>\n",
              "</div>"
            ],
            "text/plain": [
              "   Crash ID State  Month  Year  ... Easter Period Age Group Day of week Time of day\n",
              "0  20212133   Vic      9  2021  ...            No  26_to_39     Weekend       Night\n",
              "1  20214022    SA      9  2021  ...            No  26_to_39     Weekend       Night\n",
              "2  20212096   Vic      9  2021  ...            No  17_to_25     Weekend       Night\n",
              "3  20212145   Vic      9  2021  ...            No  17_to_25     Weekend       Night\n",
              "4  20212075   Vic      9  2021  ...            No  40_to_64     Weekend       Night\n",
              "\n",
              "[5 rows x 23 columns]"
            ]
          },
          "metadata": {},
          "execution_count": 49
        }
      ]
    },
    {
      "cell_type": "code",
      "metadata": {
        "colab": {
          "base_uri": "https://localhost:8080/",
          "height": 258
        },
        "id": "m8ZF3aGEM6-0",
        "outputId": "80e10576-f5c3-4f2e-88ba-efd158fadd6b"
      },
      "source": [
        "# Checking the tail\n",
        "df.tail()"
      ],
      "execution_count": null,
      "outputs": [
        {
          "output_type": "execute_result",
          "data": {
            "text/html": [
              "<div>\n",
              "<style scoped>\n",
              "    .dataframe tbody tr th:only-of-type {\n",
              "        vertical-align: middle;\n",
              "    }\n",
              "\n",
              "    .dataframe tbody tr th {\n",
              "        vertical-align: top;\n",
              "    }\n",
              "\n",
              "    .dataframe thead th {\n",
              "        text-align: right;\n",
              "    }\n",
              "</style>\n",
              "<table border=\"1\" class=\"dataframe\">\n",
              "  <thead>\n",
              "    <tr style=\"text-align: right;\">\n",
              "      <th></th>\n",
              "      <th>Crash ID</th>\n",
              "      <th>State</th>\n",
              "      <th>Month</th>\n",
              "      <th>Year</th>\n",
              "      <th>Dayweek</th>\n",
              "      <th>Time</th>\n",
              "      <th>Crash Type</th>\n",
              "      <th>Bus Involvement</th>\n",
              "      <th>Heavy Rigid Truck Involvement</th>\n",
              "      <th>Articulated Truck Involvement</th>\n",
              "      <th>Speed Limit</th>\n",
              "      <th>Road User</th>\n",
              "      <th>Gender</th>\n",
              "      <th>Age</th>\n",
              "      <th>National Remoteness Areas</th>\n",
              "      <th>SA4 Name 2016</th>\n",
              "      <th>National LGA Name 2017</th>\n",
              "      <th>National Road Type</th>\n",
              "      <th>Christmas Period</th>\n",
              "      <th>Easter Period</th>\n",
              "      <th>Age Group</th>\n",
              "      <th>Day of week</th>\n",
              "      <th>Time of day</th>\n",
              "    </tr>\n",
              "  </thead>\n",
              "  <tbody>\n",
              "    <tr>\n",
              "      <th>52838</th>\n",
              "      <td>19891246</td>\n",
              "      <td>NSW</td>\n",
              "      <td>1</td>\n",
              "      <td>1989</td>\n",
              "      <td>Wednesday</td>\n",
              "      <td>17:05</td>\n",
              "      <td>Single</td>\n",
              "      <td>Yes</td>\n",
              "      <td>NaN</td>\n",
              "      <td>No</td>\n",
              "      <td>60</td>\n",
              "      <td>Passenger</td>\n",
              "      <td>Female</td>\n",
              "      <td>5</td>\n",
              "      <td>NaN</td>\n",
              "      <td>NaN</td>\n",
              "      <td>NaN</td>\n",
              "      <td>NaN</td>\n",
              "      <td>No</td>\n",
              "      <td>No</td>\n",
              "      <td>0_to_16</td>\n",
              "      <td>Weekday</td>\n",
              "      <td>Day</td>\n",
              "    </tr>\n",
              "    <tr>\n",
              "      <th>52839</th>\n",
              "      <td>19895088</td>\n",
              "      <td>WA</td>\n",
              "      <td>1</td>\n",
              "      <td>1989</td>\n",
              "      <td>Monday</td>\n",
              "      <td>6:00</td>\n",
              "      <td>Single</td>\n",
              "      <td>No</td>\n",
              "      <td>NaN</td>\n",
              "      <td>No</td>\n",
              "      <td>110</td>\n",
              "      <td>Passenger</td>\n",
              "      <td>Male</td>\n",
              "      <td>19</td>\n",
              "      <td>NaN</td>\n",
              "      <td>NaN</td>\n",
              "      <td>NaN</td>\n",
              "      <td>NaN</td>\n",
              "      <td>Yes</td>\n",
              "      <td>No</td>\n",
              "      <td>17_to_25</td>\n",
              "      <td>Weekday</td>\n",
              "      <td>Day</td>\n",
              "    </tr>\n",
              "    <tr>\n",
              "      <th>52840</th>\n",
              "      <td>19895088</td>\n",
              "      <td>WA</td>\n",
              "      <td>1</td>\n",
              "      <td>1989</td>\n",
              "      <td>Monday</td>\n",
              "      <td>6:00</td>\n",
              "      <td>Single</td>\n",
              "      <td>No</td>\n",
              "      <td>NaN</td>\n",
              "      <td>No</td>\n",
              "      <td>110</td>\n",
              "      <td>Passenger</td>\n",
              "      <td>Male</td>\n",
              "      <td>17</td>\n",
              "      <td>NaN</td>\n",
              "      <td>NaN</td>\n",
              "      <td>NaN</td>\n",
              "      <td>NaN</td>\n",
              "      <td>Yes</td>\n",
              "      <td>No</td>\n",
              "      <td>17_to_25</td>\n",
              "      <td>Weekday</td>\n",
              "      <td>Day</td>\n",
              "    </tr>\n",
              "    <tr>\n",
              "      <th>52841</th>\n",
              "      <td>19895088</td>\n",
              "      <td>WA</td>\n",
              "      <td>1</td>\n",
              "      <td>1989</td>\n",
              "      <td>Monday</td>\n",
              "      <td>6:00</td>\n",
              "      <td>Single</td>\n",
              "      <td>No</td>\n",
              "      <td>NaN</td>\n",
              "      <td>No</td>\n",
              "      <td>110</td>\n",
              "      <td>Passenger</td>\n",
              "      <td>Male</td>\n",
              "      <td>17</td>\n",
              "      <td>NaN</td>\n",
              "      <td>NaN</td>\n",
              "      <td>NaN</td>\n",
              "      <td>NaN</td>\n",
              "      <td>Yes</td>\n",
              "      <td>No</td>\n",
              "      <td>17_to_25</td>\n",
              "      <td>Weekday</td>\n",
              "      <td>Day</td>\n",
              "    </tr>\n",
              "    <tr>\n",
              "      <th>52842</th>\n",
              "      <td>19896063</td>\n",
              "      <td>Tas</td>\n",
              "      <td>1</td>\n",
              "      <td>1989</td>\n",
              "      <td>Tuesday</td>\n",
              "      <td>12:40</td>\n",
              "      <td>Multiple</td>\n",
              "      <td>No</td>\n",
              "      <td>NaN</td>\n",
              "      <td>No</td>\n",
              "      <td>60</td>\n",
              "      <td>Passenger</td>\n",
              "      <td>Female</td>\n",
              "      <td>63</td>\n",
              "      <td>NaN</td>\n",
              "      <td>NaN</td>\n",
              "      <td>NaN</td>\n",
              "      <td>NaN</td>\n",
              "      <td>No</td>\n",
              "      <td>No</td>\n",
              "      <td>40_to_64</td>\n",
              "      <td>Weekday</td>\n",
              "      <td>Day</td>\n",
              "    </tr>\n",
              "  </tbody>\n",
              "</table>\n",
              "</div>"
            ],
            "text/plain": [
              "       Crash ID State  Month  ...  Age Group Day of week Time of day\n",
              "52838  19891246   NSW      1  ...    0_to_16     Weekday         Day\n",
              "52839  19895088    WA      1  ...   17_to_25     Weekday         Day\n",
              "52840  19895088    WA      1  ...   17_to_25     Weekday         Day\n",
              "52841  19895088    WA      1  ...   17_to_25     Weekday         Day\n",
              "52842  19896063   Tas      1  ...   40_to_64     Weekday         Day\n",
              "\n",
              "[5 rows x 23 columns]"
            ]
          },
          "metadata": {},
          "execution_count": 50
        }
      ]
    },
    {
      "cell_type": "code",
      "metadata": {
        "colab": {
          "base_uri": "https://localhost:8080/"
        },
        "id": "tREntEn0NXoA",
        "outputId": "1f583f4d-c1e7-467c-f137-fd39a3f5d954"
      },
      "source": [
        "df.shape"
      ],
      "execution_count": null,
      "outputs": [
        {
          "output_type": "execute_result",
          "data": {
            "text/plain": [
              "(52843, 23)"
            ]
          },
          "metadata": {},
          "execution_count": 51
        }
      ]
    },
    {
      "cell_type": "code",
      "metadata": {
        "colab": {
          "base_uri": "https://localhost:8080/"
        },
        "id": "zjmQSo0bNgXX",
        "outputId": "b901250b-449e-4dce-e60d-00a1048fcdd1"
      },
      "source": [
        "df.nunique()"
      ],
      "execution_count": null,
      "outputs": [
        {
          "output_type": "execute_result",
          "data": {
            "text/plain": [
              "Crash ID                         47567\n",
              "State                                8\n",
              "Month                               12\n",
              "Year                                33\n",
              "Dayweek                              7\n",
              "Time                              1413\n",
              "Crash Type                           2\n",
              "Bus Involvement                      2\n",
              "Heavy Rigid Truck Involvement        2\n",
              "Articulated Truck Involvement        2\n",
              "Speed Limit                         30\n",
              "Road User                            7\n",
              "Gender                               3\n",
              "Age                                103\n",
              "National Remoteness Areas            5\n",
              "SA4 Name 2016                       88\n",
              "National LGA Name 2017             500\n",
              "National Road Type                  13\n",
              "Christmas Period                     2\n",
              "Easter Period                        2\n",
              "Age Group                            6\n",
              "Day of week                          2\n",
              "Time of day                          2\n",
              "dtype: int64"
            ]
          },
          "metadata": {},
          "execution_count": 52
        }
      ]
    },
    {
      "cell_type": "code",
      "metadata": {
        "id": "mwjl4QerNuVp",
        "colab": {
          "base_uri": "https://localhost:8080/"
        },
        "outputId": "7958ed26-cc35-4051-e697-66af4e829f05"
      },
      "source": [
        "df.dtypes"
      ],
      "execution_count": null,
      "outputs": [
        {
          "output_type": "execute_result",
          "data": {
            "text/plain": [
              "Crash ID                          int64\n",
              "State                            object\n",
              "Month                             int64\n",
              "Year                              int64\n",
              "Dayweek                          object\n",
              "Time                             object\n",
              "Crash Type                       object\n",
              "Bus Involvement                  object\n",
              "Heavy Rigid Truck Involvement    object\n",
              "Articulated Truck Involvement    object\n",
              "Speed Limit                      object\n",
              "Road User                        object\n",
              "Gender                           object\n",
              "Age                               int64\n",
              "National Remoteness Areas        object\n",
              "SA4 Name 2016                    object\n",
              "National LGA Name 2017           object\n",
              "National Road Type               object\n",
              "Christmas Period                 object\n",
              "Easter Period                    object\n",
              "Age Group                        object\n",
              "Day of week                      object\n",
              "Time of day                      object\n",
              "dtype: object"
            ]
          },
          "metadata": {},
          "execution_count": 53
        }
      ]
    },
    {
      "cell_type": "code",
      "metadata": {
        "colab": {
          "base_uri": "https://localhost:8080/"
        },
        "id": "dS53SuBYOY6s",
        "outputId": "83af4fb2-71a5-4504-b5b5-f692630ae925"
      },
      "source": [
        "df.isnull().sum()"
      ],
      "execution_count": null,
      "outputs": [
        {
          "output_type": "execute_result",
          "data": {
            "text/plain": [
              "Crash ID                             0\n",
              "State                                0\n",
              "Month                                0\n",
              "Year                                 0\n",
              "Dayweek                              0\n",
              "Time                                40\n",
              "Crash Type                           0\n",
              "Bus Involvement                     22\n",
              "Heavy Rigid Truck Involvement    20515\n",
              "Articulated Truck Involvement       22\n",
              "Speed Limit                        702\n",
              "Road User                            0\n",
              "Gender                              27\n",
              "Age                                  0\n",
              "National Remoteness Areas        45965\n",
              "SA4 Name 2016                    45951\n",
              "National LGA Name 2017           45950\n",
              "National Road Type               45966\n",
              "Christmas Period                     0\n",
              "Easter Period                        0\n",
              "Age Group                           90\n",
              "Day of week                          0\n",
              "Time of day                          0\n",
              "dtype: int64"
            ]
          },
          "metadata": {},
          "execution_count": 54
        }
      ]
    },
    {
      "cell_type": "code",
      "metadata": {
        "id": "fd327vHfPDCs"
      },
      "source": [
        "# Drop National Remoteness Areas, SA4 Name 2016, National LGA Name 2017, National Road Type\n",
        "# Due to missing values "
      ],
      "execution_count": null,
      "outputs": []
    },
    {
      "cell_type": "markdown",
      "metadata": {
        "id": "V86ysYKiWpet"
      },
      "source": [
        "## 4. External Data Source Validation"
      ]
    },
    {
      "cell_type": "markdown",
      "metadata": {
        "id": "hEDii2UeWs-X"
      },
      "source": [
        "It is from the Australian government. From their database of Australian Road Deaths Database (ARDD). It was conducted by the Bureau of Infrastructure and Transport Research Economics. It was then uploaded to Kaggle, by \"Deep Contractor\". The link to the original dataset is [here](https://data.gov.au/dataset/ds-dga-5b530fb8-526e-4fbf-b0f6-aa24e84e4277/details?q=ardd) "
      ]
    },
    {
      "cell_type": "markdown",
      "metadata": {
        "id": "ukg5buA6K8kW"
      },
      "source": [
        "## 5. Cleaning"
      ]
    },
    {
      "cell_type": "code",
      "metadata": {
        "id": "4fPE-OZTNCZ9"
      },
      "source": [
        "# 1. Dropping the columns with null values\n",
        "df = df.drop([\"National Remoteness Areas\", \"SA4 Name 2016\", \"National LGA Name 2017\", \"National Road Type\", \"Heavy Rigid Truck Involvement\"], axis = 1)"
      ],
      "execution_count": null,
      "outputs": []
    },
    {
      "cell_type": "code",
      "metadata": {
        "id": "9RHnKcBTPvS0"
      },
      "source": [
        "# 2. Dropping values\n",
        "df = df.dropna(axis = 0)"
      ],
      "execution_count": null,
      "outputs": []
    },
    {
      "cell_type": "code",
      "metadata": {
        "colab": {
          "base_uri": "https://localhost:8080/"
        },
        "id": "GL-DhzBJRxQp",
        "outputId": "4606df9c-3d10-45ab-a14a-1006cd7dce9e"
      },
      "source": [
        "df.isnull().sum()"
      ],
      "execution_count": null,
      "outputs": [
        {
          "output_type": "execute_result",
          "data": {
            "text/plain": [
              "Crash ID                         0\n",
              "State                            0\n",
              "Month                            0\n",
              "Year                             0\n",
              "Dayweek                          0\n",
              "Time                             0\n",
              "Crash Type                       0\n",
              "Bus Involvement                  0\n",
              "Articulated Truck Involvement    0\n",
              "Speed Limit                      0\n",
              "Road User                        0\n",
              "Gender                           0\n",
              "Age                              0\n",
              "Christmas Period                 0\n",
              "Easter Period                    0\n",
              "Age Group                        0\n",
              "Day of week                      0\n",
              "Time of day                      0\n",
              "dtype: int64"
            ]
          },
          "metadata": {},
          "execution_count": 58
        }
      ]
    },
    {
      "cell_type": "code",
      "metadata": {
        "id": "Lx2XHt49Rzar"
      },
      "source": [
        "# 3. Conversion\n",
        "df[\"Time\"] = pd.to_datetime(df[\"Time\"])"
      ],
      "execution_count": null,
      "outputs": []
    },
    {
      "cell_type": "code",
      "metadata": {
        "colab": {
          "base_uri": "https://localhost:8080/"
        },
        "id": "EO8aThXZS--M",
        "outputId": "f5f84002-2872-4b13-cc8d-bb9edc462df0"
      },
      "source": [
        "df.dtypes"
      ],
      "execution_count": null,
      "outputs": [
        {
          "output_type": "execute_result",
          "data": {
            "text/plain": [
              "Crash ID                                  int64\n",
              "State                                    object\n",
              "Month                                     int64\n",
              "Year                                      int64\n",
              "Dayweek                                  object\n",
              "Time                             datetime64[ns]\n",
              "Crash Type                               object\n",
              "Bus Involvement                          object\n",
              "Articulated Truck Involvement            object\n",
              "Speed Limit                              object\n",
              "Road User                                object\n",
              "Gender                                   object\n",
              "Age                                       int64\n",
              "Christmas Period                         object\n",
              "Easter Period                            object\n",
              "Age Group                                object\n",
              "Day of week                              object\n",
              "Time of day                              object\n",
              "dtype: object"
            ]
          },
          "metadata": {},
          "execution_count": 60
        }
      ]
    },
    {
      "cell_type": "code",
      "metadata": {
        "colab": {
          "base_uri": "https://localhost:8080/",
          "height": 297
        },
        "id": "UMc1onEpTBZP",
        "outputId": "9f888a52-2973-4aaf-df10-b999b93ce38e"
      },
      "source": [
        "# 4. Checking for outliers\n",
        "df.describe()"
      ],
      "execution_count": null,
      "outputs": [
        {
          "output_type": "execute_result",
          "data": {
            "text/html": [
              "<div>\n",
              "<style scoped>\n",
              "    .dataframe tbody tr th:only-of-type {\n",
              "        vertical-align: middle;\n",
              "    }\n",
              "\n",
              "    .dataframe tbody tr th {\n",
              "        vertical-align: top;\n",
              "    }\n",
              "\n",
              "    .dataframe thead th {\n",
              "        text-align: right;\n",
              "    }\n",
              "</style>\n",
              "<table border=\"1\" class=\"dataframe\">\n",
              "  <thead>\n",
              "    <tr style=\"text-align: right;\">\n",
              "      <th></th>\n",
              "      <th>Crash ID</th>\n",
              "      <th>Month</th>\n",
              "      <th>Year</th>\n",
              "      <th>Age</th>\n",
              "    </tr>\n",
              "  </thead>\n",
              "  <tbody>\n",
              "    <tr>\n",
              "      <th>count</th>\n",
              "      <td>5.199700e+04</td>\n",
              "      <td>51997.000000</td>\n",
              "      <td>51997.000000</td>\n",
              "      <td>51997.000000</td>\n",
              "    </tr>\n",
              "    <tr>\n",
              "      <th>mean</th>\n",
              "      <td>2.002986e+07</td>\n",
              "      <td>6.552686</td>\n",
              "      <td>2002.699560</td>\n",
              "      <td>39.787315</td>\n",
              "    </tr>\n",
              "    <tr>\n",
              "      <th>std</th>\n",
              "      <td>9.413623e+04</td>\n",
              "      <td>3.456646</td>\n",
              "      <td>9.408998</td>\n",
              "      <td>21.732608</td>\n",
              "    </tr>\n",
              "    <tr>\n",
              "      <th>min</th>\n",
              "      <td>1.989100e+07</td>\n",
              "      <td>1.000000</td>\n",
              "      <td>1989.000000</td>\n",
              "      <td>0.000000</td>\n",
              "    </tr>\n",
              "    <tr>\n",
              "      <th>25%</th>\n",
              "      <td>1.994605e+07</td>\n",
              "      <td>4.000000</td>\n",
              "      <td>1994.000000</td>\n",
              "      <td>22.000000</td>\n",
              "    </tr>\n",
              "    <tr>\n",
              "      <th>50%</th>\n",
              "      <td>2.002135e+07</td>\n",
              "      <td>7.000000</td>\n",
              "      <td>2002.000000</td>\n",
              "      <td>34.000000</td>\n",
              "    </tr>\n",
              "    <tr>\n",
              "      <th>75%</th>\n",
              "      <td>2.010502e+07</td>\n",
              "      <td>10.000000</td>\n",
              "      <td>2010.000000</td>\n",
              "      <td>55.000000</td>\n",
              "    </tr>\n",
              "    <tr>\n",
              "      <th>max</th>\n",
              "      <td>2.021801e+07</td>\n",
              "      <td>12.000000</td>\n",
              "      <td>2021.000000</td>\n",
              "      <td>101.000000</td>\n",
              "    </tr>\n",
              "  </tbody>\n",
              "</table>\n",
              "</div>"
            ],
            "text/plain": [
              "           Crash ID         Month          Year           Age\n",
              "count  5.199700e+04  51997.000000  51997.000000  51997.000000\n",
              "mean   2.002986e+07      6.552686   2002.699560     39.787315\n",
              "std    9.413623e+04      3.456646      9.408998     21.732608\n",
              "min    1.989100e+07      1.000000   1989.000000      0.000000\n",
              "25%    1.994605e+07      4.000000   1994.000000     22.000000\n",
              "50%    2.002135e+07      7.000000   2002.000000     34.000000\n",
              "75%    2.010502e+07     10.000000   2010.000000     55.000000\n",
              "max    2.021801e+07     12.000000   2021.000000    101.000000"
            ]
          },
          "metadata": {},
          "execution_count": 61
        }
      ]
    },
    {
      "cell_type": "code",
      "metadata": {
        "colab": {
          "base_uri": "https://localhost:8080/",
          "height": 349
        },
        "id": "nS3zGuekTRXO",
        "outputId": "20b76948-8615-4ac3-dd4d-73f60be4fa23"
      },
      "source": [
        "plt.title(\"Age plot\")\n",
        "sns.boxplot(df['Age'])\n",
        "plt.show()"
      ],
      "execution_count": null,
      "outputs": [
        {
          "output_type": "stream",
          "name": "stderr",
          "text": [
            "/usr/local/lib/python3.7/dist-packages/seaborn/_decorators.py:43: FutureWarning: Pass the following variable as a keyword arg: x. From version 0.12, the only valid positional argument will be `data`, and passing other arguments without an explicit keyword will result in an error or misinterpretation.\n",
            "  FutureWarning\n"
          ]
        },
        {
          "output_type": "display_data",
          "data": {
            "image/png": "[encoded data removed]",
            "text/plain": [
              "<Figure size 432x288 with 1 Axes>"
            ]
          },
          "metadata": {
            "needs_background": "light"
          }
        }
      ]
    },
    {
      "cell_type": "code",
      "metadata": {
        "id": "Mar_DDbWUobc"
      },
      "source": [
        "# No outliers"
      ],
      "execution_count": null,
      "outputs": []
    },
    {
      "cell_type": "code",
      "metadata": {
        "colab": {
          "base_uri": "https://localhost:8080/"
        },
        "id": "JT2vNsRFT3aA",
        "outputId": "44e4830e-df8f-42cd-f102-dd513feab2f2"
      },
      "source": [
        "# 5. Check for duplicates\n",
        "df.duplicated().sum()"
      ],
      "execution_count": null,
      "outputs": [
        {
          "output_type": "execute_result",
          "data": {
            "text/plain": [
              "142"
            ]
          },
          "metadata": {},
          "execution_count": 64
        }
      ]
    },
    {
      "cell_type": "code",
      "metadata": {
        "id": "uSyrSpJwVk7y"
      },
      "source": [
        "df = df.drop_duplicates()"
      ],
      "execution_count": null,
      "outputs": []
    },
    {
      "cell_type": "code",
      "metadata": {
        "colab": {
          "base_uri": "https://localhost:8080/"
        },
        "id": "cqQuvnuaWJlT",
        "outputId": "80bcd1d3-fad6-4eba-a60b-367dc43e70a1"
      },
      "source": [
        "df.duplicated().sum()"
      ],
      "execution_count": null,
      "outputs": [
        {
          "output_type": "execute_result",
          "data": {
            "text/plain": [
              "0"
            ]
          },
          "metadata": {},
          "execution_count": 66
        }
      ]
    },
    {
      "cell_type": "markdown",
      "metadata": {
        "id": "anxdj9eqWfOu"
      },
      "source": [
        "## 6. Exploratory Analysis"
      ]
    },
    {
      "cell_type": "markdown",
      "metadata": {
        "id": "VTu4N2d9Yfkv"
      },
      "source": [
        "#### Univariate"
      ]
    },
    {
      "cell_type": "code",
      "metadata": {
        "colab": {
          "base_uri": "https://localhost:8080/"
        },
        "id": "j-bCZ7nimd-i",
        "outputId": "b1d8a720-6a90-4eb8-c703-bf7ad6cf4cc6"
      },
      "source": [
        "df[\"State\"].value_counts()"
      ],
      "execution_count": null,
      "outputs": [
        {
          "output_type": "execute_result",
          "data": {
            "text/plain": [
              "NSW    16186\n",
              "Vic    11351\n",
              "Qld    10440\n",
              "WA      6122\n",
              "SA      4527\n",
              "Tas     1537\n",
              "NT      1367\n",
              "ACT      325\n",
              "Name: State, dtype: int64"
            ]
          },
          "metadata": {},
          "execution_count": 67
        }
      ]
    },
    {
      "cell_type": "code",
      "metadata": {
        "colab": {
          "base_uri": "https://localhost:8080/",
          "height": 312
        },
        "id": "v1HvJYGJkFww",
        "outputId": "4c09bf7c-9309-472b-a485-bdf09fd16189"
      },
      "source": [
        "plt.hist(df[\"State\"], bins=10, histtype='bar', rwidth=0.9)\n",
        "plt.xlabel('State')\n",
        "plt.ylabel('Crashes number')\n",
        "plt.title('Distribution of Crashes per State') \n",
        "plt.figure(figsize=(4, 3))\n",
        "plt.show()"
      ],
      "execution_count": null,
      "outputs": [
        {
          "output_type": "display_data",
          "data": {
            "image/png": "[encoded data removed]",
            "text/plain": [
              "<Figure size 432x288 with 1 Axes>"
            ]
          },
          "metadata": {
            "needs_background": "light"
          }
        },
        {
          "output_type": "display_data",
          "data": {
            "text/plain": [
              "<Figure size 288x216 with 0 Axes>"
            ]
          },
          "metadata": {}
        }
      ]
    },
    {
      "cell_type": "code",
      "metadata": {
        "colab": {
          "base_uri": "https://localhost:8080/"
        },
        "id": "w0zfvulvmZZp",
        "outputId": "2433e1a2-5882-462b-b10e-4a714803a59e"
      },
      "source": [
        "df[\"Crash Type\"].value_counts()"
      ],
      "execution_count": null,
      "outputs": [
        {
          "output_type": "execute_result",
          "data": {
            "text/plain": [
              "Single      28585\n",
              "Multiple    23270\n",
              "Name: Crash Type, dtype: int64"
            ]
          },
          "metadata": {},
          "execution_count": 69
        }
      ]
    },
    {
      "cell_type": "code",
      "metadata": {
        "colab": {
          "base_uri": "https://localhost:8080/",
          "height": 312
        },
        "id": "Rq6dOLGWlCUH",
        "outputId": "06504a21-0f42-4730-acc7-fb1d6358b79c"
      },
      "source": [
        "plt.hist(df[\"Crash Type\"], bins=2, histtype='bar', rwidth=0.9)\n",
        "plt.xlabel('Crash Type')\n",
        "plt.ylabel('Crashes number')\n",
        "plt.title('Distribution of Crashes per Crash Type') \n",
        "plt.figure(figsize=(4, 3))\n",
        "plt.show()"
      ],
      "execution_count": null,
      "outputs": [
        {
          "output_type": "display_data",
          "data": {
            "image/png": "[encoded data removed]",
            "text/plain": [
              "<Figure size 432x288 with 1 Axes>"
            ]
          },
          "metadata": {
            "needs_background": "light"
          }
        },
        {
          "output_type": "display_data",
          "data": {
            "text/plain": [
              "<Figure size 288x216 with 0 Axes>"
            ]
          },
          "metadata": {}
        }
      ]
    },
    {
      "cell_type": "code",
      "metadata": {
        "colab": {
          "base_uri": "https://localhost:8080/"
        },
        "id": "qH87263LlsnX",
        "outputId": "01dc6298-3483-4eb1-c0cd-8aeead7e8bb9"
      },
      "source": [
        "df[\"Road User\"].value_counts()"
      ],
      "execution_count": null,
      "outputs": [
        {
          "output_type": "execute_result",
          "data": {
            "text/plain": [
              "Driver                          23505\n",
              "Passenger                       11858\n",
              "Pedestrian                       8107\n",
              "Motorcycle rider                 6555\n",
              "Pedal cyclist                    1402\n",
              "Motorcycle pillion passenger      358\n",
              "Other/-9                           70\n",
              "Name: Road User, dtype: int64"
            ]
          },
          "metadata": {},
          "execution_count": 71
        }
      ]
    },
    {
      "cell_type": "code",
      "metadata": {
        "colab": {
          "base_uri": "https://localhost:8080/",
          "height": 295
        },
        "id": "JY-g-y-4lLFz",
        "outputId": "71d025af-2053-455b-e634-92ca49ebce7a"
      },
      "source": [
        "plt.figure(figsize=(14, 4))\n",
        "plt.hist(df[\"Road User\"], bins=7, histtype='bar', rwidth=0.9)\n",
        "plt.xlabel('Age')\n",
        "plt.ylabel('Crashes number')\n",
        "plt.title('Distribution of Crashes per Road User') \n",
        "plt.show()"
      ],
      "execution_count": null,
      "outputs": [
        {
          "output_type": "display_data",
          "data": {
            "image/png": "[encoded data removed]",
            "text/plain": [
              "<Figure size 1008x288 with 1 Axes>"
            ]
          },
          "metadata": {
            "needs_background": "light"
          }
        }
      ]
    },
    {
      "cell_type": "markdown",
      "metadata": {
        "id": "HSjaZMMrcKKH"
      },
      "source": [
        "Specific objective: To determine the number of road fatalities experienced  by different age groups"
      ]
    },
    {
      "cell_type": "code",
      "metadata": {
        "colab": {
          "base_uri": "https://localhost:8080/"
        },
        "id": "8S8nYnFnmmop",
        "outputId": "cd78f0b6-300b-4b2d-bdab-95915964401a"
      },
      "source": [
        "df[\"Age\"].value_counts(bins = 10, sort = False)"
      ],
      "execution_count": null,
      "outputs": [
        {
          "output_type": "execute_result",
          "data": {
            "text/plain": [
              "(-0.10200000000000001, 10.1]     1972\n",
              "(10.1, 20.2]                     8747\n",
              "(20.2, 30.3]                    11854\n",
              "(30.3, 40.4]                     7780\n",
              "(40.4, 50.5]                     6070\n",
              "(50.5, 60.6]                     4734\n",
              "(60.6, 70.7]                     4144\n",
              "(70.7, 80.8]                     3914\n",
              "(80.8, 90.9]                     2316\n",
              "(90.9, 101.0]                     324\n",
              "Name: Age, dtype: int64"
            ]
          },
          "metadata": {},
          "execution_count": 73
        }
      ]
    },
    {
      "cell_type": "code",
      "metadata": {
        "id": "f1_emnTUWK63",
        "colab": {
          "base_uri": "https://localhost:8080/",
          "height": 312
        },
        "outputId": "c0776eef-d839-4342-95d3-3becc2e4fddf"
      },
      "source": [
        "plt.hist(df[\"Age\"], bins=10, histtype='bar', rwidth=0.9)\n",
        "plt.xlabel('Age')\n",
        "plt.ylabel('Crashes number')\n",
        "plt.title('Distribution of Crashes per age') \n",
        "plt.figure(figsize=(4, 3))\n",
        "plt.show()"
      ],
      "execution_count": null,
      "outputs": [
        {
          "output_type": "display_data",
          "data": {
            "image/png": "[encoded data removed]",
            "text/plain": [
              "<Figure size 432x288 with 1 Axes>"
            ]
          },
          "metadata": {
            "needs_background": "light"
          }
        },
        {
          "output_type": "display_data",
          "data": {
            "text/plain": [
              "<Figure size 288x216 with 0 Axes>"
            ]
          },
          "metadata": {}
        }
      ]
    },
    {
      "cell_type": "markdown",
      "metadata": {
        "id": "VT6ddaIkd4T-"
      },
      "source": [
        "Specific objective: To determine the number of road fatalities experienced  by gender"
      ]
    },
    {
      "cell_type": "code",
      "metadata": {
        "colab": {
          "base_uri": "https://localhost:8080/"
        },
        "id": "TsJGIglTm_MY",
        "outputId": "9dd7570b-c89c-49c6-caea-ca3739475451"
      },
      "source": [
        "df[\"Gender\"].value_counts()"
      ],
      "execution_count": null,
      "outputs": [
        {
          "output_type": "execute_result",
          "data": {
            "text/plain": [
              "Male           37140\n",
              "Female         14714\n",
              "Unspecified        1\n",
              "Name: Gender, dtype: int64"
            ]
          },
          "metadata": {},
          "execution_count": 75
        }
      ]
    },
    {
      "cell_type": "code",
      "metadata": {
        "colab": {
          "base_uri": "https://localhost:8080/",
          "height": 312
        },
        "id": "LpAk_oX7dDCU",
        "outputId": "c9b5e2cd-5415-4dd5-c612-31f341ce99af"
      },
      "source": [
        "plt.hist(df[\"Gender\"], histtype='bar', rwidth=0.9, bins = 3)\n",
        "plt.xlabel('Gender')\n",
        "plt.ylabel('Crashes number')\n",
        "plt.title('Distribution of Crashes per Gender') \n",
        "plt.figure(figsize=(4, 3))\n",
        "plt.show()"
      ],
      "execution_count": null,
      "outputs": [
        {
          "output_type": "display_data",
          "data": {
            "image/png": "[encoded data removed]",
            "text/plain": [
              "<Figure size 432x288 with 1 Axes>"
            ]
          },
          "metadata": {
            "needs_background": "light"
          }
        },
        {
          "output_type": "display_data",
          "data": {
            "text/plain": [
              "<Figure size 288x216 with 0 Axes>"
            ]
          },
          "metadata": {}
        }
      ]
    },
    {
      "cell_type": "markdown",
      "metadata": {
        "id": "oHR53-kAebvB"
      },
      "source": [
        "Specific objective: To determine the number of road fatalities occurring on different days of the week"
      ]
    },
    {
      "cell_type": "code",
      "metadata": {
        "colab": {
          "base_uri": "https://localhost:8080/"
        },
        "id": "7AGIEE9UnM77",
        "outputId": "798c64dc-f9b6-46ba-df62-49cd371013dd"
      },
      "source": [
        "df[\"Dayweek\"].value_counts()"
      ],
      "execution_count": null,
      "outputs": [
        {
          "output_type": "execute_result",
          "data": {
            "text/plain": [
              "Saturday     9489\n",
              "Friday       8500\n",
              "Sunday       8299\n",
              "Thursday     6975\n",
              "Wednesday    6538\n",
              "Tuesday      6054\n",
              "Monday       6000\n",
              "Name: Dayweek, dtype: int64"
            ]
          },
          "metadata": {},
          "execution_count": 77
        }
      ]
    },
    {
      "cell_type": "code",
      "metadata": {
        "colab": {
          "base_uri": "https://localhost:8080/",
          "height": 312
        },
        "id": "bMWaJGm-eHlP",
        "outputId": "dc18d46c-3116-4171-8ee3-c2b6a85e5cf6"
      },
      "source": [
        "plt.hist(df[\"Dayweek\"], histtype='bar', rwidth=0.9, bins = 7)\n",
        "plt.xlabel('Dayweek')\n",
        "plt.ylabel('Crashes number')\n",
        "plt.title('Distribution of Crashes per Day of week') \n",
        "plt.figure(figsize=(4, 3))\n",
        "plt.show()"
      ],
      "execution_count": null,
      "outputs": [
        {
          "output_type": "display_data",
          "data": {
            "image/png": "[encoded data removed]",
            "text/plain": [
              "<Figure size 432x288 with 1 Axes>"
            ]
          },
          "metadata": {
            "needs_background": "light"
          }
        },
        {
          "output_type": "display_data",
          "data": {
            "text/plain": [
              "<Figure size 288x216 with 0 Axes>"
            ]
          },
          "metadata": {}
        }
      ]
    },
    {
      "cell_type": "code",
      "metadata": {
        "colab": {
          "base_uri": "https://localhost:8080/"
        },
        "id": "SuGQZVLqchPH",
        "outputId": "2a93ffc2-fa97-4903-d792-367845b13eb4"
      },
      "source": [
        "df['Age Group'].value_counts()"
      ],
      "execution_count": null,
      "outputs": [
        {
          "output_type": "execute_result",
          "data": {
            "text/plain": [
              "17_to_25       13505\n",
              "40_to_64       13238\n",
              "26_to_39       12135\n",
              "75_or_older     5045\n",
              "0_to_16         3969\n",
              "65_to_74        3963\n",
              "Name: Age Group, dtype: int64"
            ]
          },
          "metadata": {},
          "execution_count": 79
        }
      ]
    },
    {
      "cell_type": "code",
      "metadata": {
        "colab": {
          "base_uri": "https://localhost:8080/",
          "height": 313
        },
        "id": "_LZoRydgdSV2",
        "outputId": "600454e4-8b65-4270-a217-e804018270b2"
      },
      "source": [
        "plt.hist(df[\"Age Group\"], histtype='bar', rwidth=0.9, bins = 6)\n",
        "plt.xlabel('Age Group')\n",
        "plt.ylabel('Crashes number')\n",
        "plt.title('Number of fatalities per age group') \n",
        "plt.figure(figsize=(4, 3))\n",
        "plt.show()"
      ],
      "execution_count": null,
      "outputs": [
        {
          "output_type": "display_data",
          "data": {
            "image/png": "[encoded data removed]",
            "text/plain": [
              "<Figure size 432x288 with 1 Axes>"
            ]
          },
          "metadata": {
            "needs_background": "light"
          }
        },
        {
          "output_type": "display_data",
          "data": {
            "text/plain": [
              "<Figure size 288x216 with 0 Axes>"
            ]
          },
          "metadata": {}
        }
      ]
    },
    {
      "cell_type": "code",
      "metadata": {
        "colab": {
          "base_uri": "https://localhost:8080/"
        },
        "id": "_EMYIT3Kz1QX",
        "outputId": "adf8ec47-cf0d-4192-8d50-93ed8e4cf3da"
      },
      "source": [
        "#summary for the age column \n",
        "df['Age'].describe()"
      ],
      "execution_count": null,
      "outputs": [
        {
          "output_type": "execute_result",
          "data": {
            "text/plain": [
              "count    51855.000000\n",
              "mean        39.828445\n",
              "std         21.732201\n",
              "min          0.000000\n",
              "25%         22.000000\n",
              "50%         34.000000\n",
              "75%         55.000000\n",
              "max        101.000000\n",
              "Name: Age, dtype: float64"
            ]
          },
          "metadata": {},
          "execution_count": 81
        }
      ]
    },
    {
      "cell_type": "markdown",
      "metadata": {
        "id": "VzP1V4UogjYB"
      },
      "source": [
        "#### Bivariate"
      ]
    },
    {
      "cell_type": "markdown",
      "metadata": {
        "id": "RD3kMwpAfkM9"
      },
      "source": [
        "Specific objective: To determine the number of road fatalities occurring at different times of the day."
      ]
    },
    {
      "cell_type": "code",
      "metadata": {
        "id": "JTYW4FoOewzJ",
        "colab": {
          "base_uri": "https://localhost:8080/",
          "height": 350
        },
        "outputId": "98daba81-eeb6-4305-f84e-c238f55afcff"
      },
      "source": [
        "plt.figure(figsize=(9, 5))\n",
        "sns.histplot(x = df[\"Dayweek\"], hue = df[\"Time of day\"])\n",
        "plt.xlabel('Day of week')\n",
        "plt.ylabel('Crashes number')\n",
        "plt.title('Distribution of Crashes per Day of week') \n",
        "plt.show()"
      ],
      "execution_count": null,
      "outputs": [
        {
          "output_type": "display_data",
          "data": {
            "image/png": "[encoded data removed]",
            "text/plain": [
              "<Figure size 648x360 with 1 Axes>"
            ]
          },
          "metadata": {
            "needs_background": "light"
          }
        }
      ]
    },
    {
      "cell_type": "code",
      "metadata": {
        "colab": {
          "base_uri": "https://localhost:8080/",
          "height": 350
        },
        "id": "peo156B-tr0C",
        "outputId": "c429ead7-c221-4b8e-8d88-2dad7b754479"
      },
      "source": [
        "plt.figure(figsize=(9, 5))\n",
        "sns.histplot(x = df[\"Dayweek\"], hue = df[\"Christmas Period\"])\n",
        "plt.xlabel('Day of week')\n",
        "plt.ylabel('Crashes number')\n",
        "plt.title('Distribution of Crashes per Day of week') \n",
        "plt.show()"
      ],
      "execution_count": null,
      "outputs": [
        {
          "output_type": "display_data",
          "data": {
            "image/png": "[encoded data removed]",
            "text/plain": [
              "<Figure size 648x360 with 1 Axes>"
            ]
          },
          "metadata": {
            "needs_background": "light"
          }
        }
      ]
    },
    {
      "cell_type": "code",
      "metadata": {
        "colab": {
          "base_uri": "https://localhost:8080/"
        },
        "id": "ZO3T5XJQuCqs",
        "outputId": "b88d84ca-2cce-44e1-d750-0336a02231d2"
      },
      "source": [
        "df[[\"Dayweek\", \"Christmas Period\"]].value_counts(sort = False)"
      ],
      "execution_count": null,
      "outputs": [
        {
          "output_type": "execute_result",
          "data": {
            "text/plain": [
              "Dayweek    Christmas Period\n",
              "Friday     No                  8291\n",
              "           Yes                  209\n",
              "Monday     No                  5804\n",
              "           Yes                  196\n",
              "Saturday   No                  9259\n",
              "           Yes                  230\n",
              "Sunday     No                  8077\n",
              "           Yes                  222\n",
              "Thursday   No                  6724\n",
              "           Yes                  251\n",
              "Tuesday    No                  5810\n",
              "           Yes                  244\n",
              "Wednesday  No                  6297\n",
              "           Yes                  241\n",
              "dtype: int64"
            ]
          },
          "metadata": {},
          "execution_count": 84
        }
      ]
    },
    {
      "cell_type": "markdown",
      "metadata": {
        "id": "eRFw-1DzukY3"
      },
      "source": [
        "Because it is one day, few people travel. In that year."
      ]
    },
    {
      "cell_type": "code",
      "metadata": {
        "colab": {
          "base_uri": "https://localhost:8080/",
          "height": 350
        },
        "id": "BW7M0fihvZu0",
        "outputId": "fdf7f3b7-776e-414a-d165-692a983be3fd"
      },
      "source": [
        "plt.figure(figsize=(9, 5))\n",
        "sns.histplot(x = df[\"Dayweek\"], hue = df[\"Easter Period\"])\n",
        "plt.xlabel('Day of week')\n",
        "plt.ylabel('Crashes number')\n",
        "plt.title('Distribution of Crashes per Day of week') \n",
        "plt.show()"
      ],
      "execution_count": null,
      "outputs": [
        {
          "output_type": "display_data",
          "data": {
            "image/png": "[encoded data removed]",
            "text/plain": [
              "<Figure size 648x360 with 1 Axes>"
            ]
          },
          "metadata": {
            "needs_background": "light"
          }
        }
      ]
    },
    {
      "cell_type": "code",
      "metadata": {
        "colab": {
          "base_uri": "https://localhost:8080/"
        },
        "id": "9EI6RBWwvmhc",
        "outputId": "2f0ad8c4-dc82-4954-bd85-4c65c2d57df9"
      },
      "source": [
        "df[[\"Dayweek\", \"Easter Period\"]].value_counts(sort = False)"
      ],
      "execution_count": null,
      "outputs": [
        {
          "output_type": "execute_result",
          "data": {
            "text/plain": [
              "Dayweek    Easter Period\n",
              "Friday     No               8446\n",
              "           Yes                54\n",
              "Monday     No               5955\n",
              "           Yes                45\n",
              "Saturday   No               9433\n",
              "           Yes                56\n",
              "Sunday     No               8251\n",
              "           Yes                48\n",
              "Thursday   No               6917\n",
              "           Yes                58\n",
              "Tuesday    No               6052\n",
              "           Yes                 2\n",
              "Wednesday  No               6535\n",
              "           Yes                 3\n",
              "dtype: int64"
            ]
          },
          "metadata": {},
          "execution_count": 86
        }
      ]
    },
    {
      "cell_type": "markdown",
      "metadata": {
        "id": "X7Xpt11Sv1Yl"
      },
      "source": [
        "They celebrate easter more than christmas. So they travel less. So there are fewer accidents"
      ]
    },
    {
      "cell_type": "markdown",
      "metadata": {
        "id": "acqk9_TSwegc"
      },
      "source": [
        "Specific objective: To determine the number of road fatalities over the period of 1989 to 2021"
      ]
    },
    {
      "cell_type": "code",
      "metadata": {
        "colab": {
          "base_uri": "https://localhost:8080/",
          "height": 282
        },
        "id": "_y3yd6_KoCuE",
        "outputId": "a0cf290f-312b-41da-a478-eeb4c13566f1"
      },
      "source": [
        "df['Year'].value_counts().plot.line(color = 'slateblue')"
      ],
      "execution_count": null,
      "outputs": [
        {
          "output_type": "execute_result",
          "data": {
            "text/plain": [
              "<matplotlib.axes._subplots.AxesSubplot at 0x7fe4841e1890>"
            ]
          },
          "metadata": {},
          "execution_count": 87
        },
        {
          "output_type": "display_data",
          "data": {
            "image/png": "[encoded data removed]",
            "text/plain": [
              "<Figure size 432x288 with 1 Axes>"
            ]
          },
          "metadata": {
            "needs_background": "light"
          }
        }
      ]
    },
    {
      "cell_type": "markdown",
      "metadata": {
        "id": "pIfGtWporRQZ"
      },
      "source": [
        "During the 1990's, there was bad road networks. There was bad training. Technology has improved that has improved safety."
      ]
    },
    {
      "cell_type": "code",
      "metadata": {
        "colab": {
          "base_uri": "https://localhost:8080/",
          "height": 282
        },
        "id": "t-5wnGcGrtJu",
        "outputId": "95a740c0-5375-4e54-8eae-68a94d7603ab"
      },
      "source": [
        "df['Month'].value_counts().plot.line(color = 'slateblue')"
      ],
      "execution_count": null,
      "outputs": [
        {
          "output_type": "execute_result",
          "data": {
            "text/plain": [
              "<matplotlib.axes._subplots.AxesSubplot at 0x7fe479341690>"
            ]
          },
          "metadata": {},
          "execution_count": 88
        },
        {
          "output_type": "display_data",
          "data": {
            "image/png": "[encoded data removed]",
            "text/plain": [
              "<Figure size 432x288 with 1 Axes>"
            ]
          },
          "metadata": {
            "needs_background": "light"
          }
        }
      ]
    },
    {
      "cell_type": "markdown",
      "metadata": {
        "id": "22hBoYkar9Gb"
      },
      "source": [
        "There is not specific month where there is a more fatalities than the other"
      ]
    },
    {
      "cell_type": "markdown",
      "metadata": {
        "id": "Y3yw7ugpwhF8"
      },
      "source": [
        "Specific objective: To determine the number of road fatalities is more on weekends than weekdays."
      ]
    },
    {
      "cell_type": "code",
      "metadata": {
        "colab": {
          "base_uri": "https://localhost:8080/",
          "height": 312
        },
        "id": "qBDobJK3p0Bt",
        "outputId": "da60cc5c-365e-4c77-f635-108f6fd23a43"
      },
      "source": [
        "plt.hist(df[\"Day of week\"], histtype='bar', rwidth=0.9, bins = 2)\n",
        "plt.xlabel('Type of week')\n",
        "plt.ylabel('Crashes number')\n",
        "plt.title('Distribution of Crashes per Day of week type') \n",
        "plt.figure(figsize=(4, 3))\n",
        "plt.show()"
      ],
      "execution_count": null,
      "outputs": [
        {
          "output_type": "display_data",
          "data": {
            "image/png": "[encoded data removed]",
            "text/plain": [
              "<Figure size 432x288 with 1 Axes>"
            ]
          },
          "metadata": {
            "needs_background": "light"
          }
        },
        {
          "output_type": "display_data",
          "data": {
            "text/plain": [
              "<Figure size 288x216 with 0 Axes>"
            ]
          },
          "metadata": {}
        }
      ]
    },
    {
      "cell_type": "code",
      "metadata": {
        "id": "Tb1pzB9YcG3J"
      },
      "source": [
        "from sklearn.preprocessing import LabelEncoder\n",
        "en = LabelEncoder()\n",
        "df['Day of week'] = en.fit_transform(df['Day of week'])\n",
        "df['State']= en.fit_transform(df['State'])\n",
        "df['Dayweek']=en.fit_transform(df['Dayweek'])\n",
        "df['Crash Type']=en.fit_transform(df['Crash Type'])\n",
        "df['Bus Involvement']=en.fit_transform(df['Bus Involvement'])\n",
        "df['Articulated Truck Involvement']=en.fit_transform(df['Articulated Truck Involvement'])\n",
        "df['Road User']=en.fit_transform(df['Road User'])\n",
        "df['Gender']=en.fit_transform(df['Gender'])\n",
        "df['Christmas Period']=en.fit_transform(df['Christmas Period'])\n",
        "df['Easter Period']=en.fit_transform(df['Easter Period'])\n",
        "df['Time of day']=en.fit_transform(df['Time of day'])\n",
        "df['Age Group']=en.fit_transform(df['Age Group'])\n",
        "df['Speed Limit'].replace({'<40':'40','Unspecified':'40'},inplace = True)\n",
        "df['Speed Limit'] = df['Speed Limit'].astype(int)"
      ],
      "execution_count": null,
      "outputs": []
    },
    {
      "cell_type": "code",
      "metadata": {
        "id": "_kskToM4YRnv",
        "colab": {
          "base_uri": "https://localhost:8080/",
          "height": 752
        },
        "outputId": "4b07e658-68cb-4735-93f0-8813c806ebf0"
      },
      "source": [
        "#df.info()\n",
        "corr_matrix = df.corr()\n",
        "corr_matrix\n",
        "#visualising the corrmatrix\n",
        "fig, ax = plt.subplots(figsize=(10,10)) \n",
        "sns.heatmap(corr_matrix, annot=False,  linewidths=.5, ax=ax)"
      ],
      "execution_count": null,
      "outputs": [
        {
          "output_type": "execute_result",
          "data": {
            "text/plain": [
              "<matplotlib.axes._subplots.AxesSubplot at 0x7fe479229650>"
            ]
          },
          "metadata": {},
          "execution_count": 91
        },
        {
          "output_type": "display_data",
          "data": {
            "image/png": "[encoded data removed]",
            "text/plain": [
              "<Figure size 720x720 with 2 Axes>"
            ]
          },
          "metadata": {
            "needs_background": "light"
          }
        }
      ]
    },
    {
      "cell_type": "code",
      "metadata": {
        "colab": {
          "base_uri": "https://localhost:8080/",
          "height": 168
        },
        "id": "K1KotUYwwNRi",
        "outputId": "29f0fe16-8bae-4dcb-cb68-32ca59fd6071"
      },
      "source": [
        "df.head(1)"
      ],
      "execution_count": null,
      "outputs": [
        {
          "output_type": "execute_result",
          "data": {
            "text/html": [
              "<div>\n",
              "<style scoped>\n",
              "    .dataframe tbody tr th:only-of-type {\n",
              "        vertical-align: middle;\n",
              "    }\n",
              "\n",
              "    .dataframe tbody tr th {\n",
              "        vertical-align: top;\n",
              "    }\n",
              "\n",
              "    .dataframe thead th {\n",
              "        text-align: right;\n",
              "    }\n",
              "</style>\n",
              "<table border=\"1\" class=\"dataframe\">\n",
              "  <thead>\n",
              "    <tr style=\"text-align: right;\">\n",
              "      <th></th>\n",
              "      <th>Crash ID</th>\n",
              "      <th>State</th>\n",
              "      <th>Month</th>\n",
              "      <th>Year</th>\n",
              "      <th>Dayweek</th>\n",
              "      <th>Time</th>\n",
              "      <th>Crash Type</th>\n",
              "      <th>Bus Involvement</th>\n",
              "      <th>Articulated Truck Involvement</th>\n",
              "      <th>Speed Limit</th>\n",
              "      <th>Road User</th>\n",
              "      <th>Gender</th>\n",
              "      <th>Age</th>\n",
              "      <th>Christmas Period</th>\n",
              "      <th>Easter Period</th>\n",
              "      <th>Age Group</th>\n",
              "      <th>Day of week</th>\n",
              "      <th>Time of day</th>\n",
              "    </tr>\n",
              "  </thead>\n",
              "  <tbody>\n",
              "    <tr>\n",
              "      <th>1</th>\n",
              "      <td>20214022</td>\n",
              "      <td>4</td>\n",
              "      <td>9</td>\n",
              "      <td>2021</td>\n",
              "      <td>2</td>\n",
              "      <td>2021-11-09 23:31:00</td>\n",
              "      <td>0</td>\n",
              "      <td>0</td>\n",
              "      <td>0</td>\n",
              "      <td>110</td>\n",
              "      <td>6</td>\n",
              "      <td>0</td>\n",
              "      <td>28</td>\n",
              "      <td>0</td>\n",
              "      <td>0</td>\n",
              "      <td>2</td>\n",
              "      <td>1</td>\n",
              "      <td>1</td>\n",
              "    </tr>\n",
              "  </tbody>\n",
              "</table>\n",
              "</div>"
            ],
            "text/plain": [
              "   Crash ID  State  Month  ...  Age Group  Day of week Time of day\n",
              "1  20214022      4      9  ...          2            1           1\n",
              "\n",
              "[1 rows x 18 columns]"
            ]
          },
          "metadata": {},
          "execution_count": 97
        }
      ]
    },
    {
      "cell_type": "code",
      "metadata": {
        "id": "VEnSWzVLukUU"
      },
      "source": [
        "from sklearn.preprocessing import StandardScaler\n",
        "\n",
        "sc = StandardScaler()\n",
        "X_train = sc.fit_transform(X_train)\n",
        "X_test = sc.transform(X_test)\n"
      ],
      "execution_count": null,
      "outputs": []
    },
    {
      "cell_type": "markdown",
      "metadata": {
        "id": "KxLeixxBoMir"
      },
      "source": [
        "## Multivariate analysis"
      ]
    },
    {
      "cell_type": "markdown",
      "metadata": {
        "id": "rw430guc1iC2"
      },
      "source": [
        "####Principal Component Analysis"
      ]
    },
    {
      "cell_type": "code",
      "metadata": {
        "id": "SlFZ3F4XoTiv"
      },
      "source": [
        "\n",
        "#Splitting the dataset into the Training set and Test set\n",
        "from sklearn.decomposition import PCA\n",
        "from sklearn.preprocessing import StandardScaler\n",
        "\n",
        "X=df[['Crash Type','Christmas Period', 'Easter Period' ]]\n",
        "sc = StandardScaler()\n",
        "X = sc.fit_transform(X)\n",
        "\n",
        "pca = PCA()\n",
        "X = pca.fit_transform(X)"
      ],
      "execution_count": null,
      "outputs": []
    },
    {
      "cell_type": "code",
      "metadata": {
        "colab": {
          "base_uri": "https://localhost:8080/"
        },
        "id": "E_aVyvbBy0s6",
        "outputId": "767fbd56-7e2f-4681-fb5d-fba90611669e"
      },
      "source": [
        "#getting the variance ration\n",
        "explained_variance = pca.explained_variance_ratio_\n",
        "explained_variance"
      ],
      "execution_count": null,
      "outputs": [
        {
          "output_type": "execute_result",
          "data": {
            "text/plain": [
              "array([0.33790887, 0.3343618 , 0.32772933])"
            ]
          },
          "metadata": {},
          "execution_count": 106
        }
      ]
    },
    {
      "cell_type": "markdown",
      "metadata": {
        "id": "0EVyvzgW2MRQ"
      },
      "source": [
        "###Factor Analyzer\n"
      ]
    },
    {
      "cell_type": "code",
      "metadata": {
        "colab": {
          "base_uri": "https://localhost:8080/"
        },
        "id": "4Rssg7LS2ayW",
        "outputId": "3e384e4e-babc-4335-cc51-d8d6ee01ba9f"
      },
      "source": [
        "!pip install factor_analyzer==0.2.3"
      ],
      "execution_count": null,
      "outputs": [
        {
          "output_type": "stream",
          "name": "stdout",
          "text": [
            "Collecting factor_analyzer==0.2.3\n",
            "  Downloading factor_analyzer-0.2.3-py2.py3-none-any.whl (23 kB)\n",
            "Requirement already satisfied: scipy in /usr/local/lib/python3.7/dist-packages (from factor_analyzer==0.2.3) (1.4.1)\n",
            "Requirement already satisfied: pandas in /usr/local/lib/python3.7/dist-packages (from factor_analyzer==0.2.3) (1.1.5)\n",
            "Requirement already satisfied: numpy in /usr/local/lib/python3.7/dist-packages (from factor_analyzer==0.2.3) (1.19.5)\n",
            "Requirement already satisfied: python-dateutil>=2.7.3 in /usr/local/lib/python3.7/dist-packages (from pandas->factor_analyzer==0.2.3) (2.8.2)\n",
            "Requirement already satisfied: pytz>=2017.2 in /usr/local/lib/python3.7/dist-packages (from pandas->factor_analyzer==0.2.3) (2018.9)\n",
            "Requirement already satisfied: six>=1.5 in /usr/local/lib/python3.7/dist-packages (from python-dateutil>=2.7.3->pandas->factor_analyzer==0.2.3) (1.15.0)\n",
            "Installing collected packages: factor-analyzer\n",
            "Successfully installed factor-analyzer-0.2.3\n"
          ]
        }
      ]
    },
    {
      "cell_type": "code",
      "metadata": {
        "colab": {
          "base_uri": "https://localhost:8080/",
          "height": 142
        },
        "id": "FCwm4fB_zMC7",
        "outputId": "ef2bf01b-43d3-4553-a621-6bb7c7ecb2bb"
      },
      "source": [
        "from factor_analyzer.factor_analyzer import FactorAnalyzer\n",
        "\n",
        "# Creating factor analysis object and perform factor analysis\n",
        "fa = FactorAnalyzer()\n",
        "fa.analyze(df[['Crash Type','Christmas Period', 'Easter Period' ]], 3, rotation=None)\n",
        "\n",
        "# Checking the Eigenvalues\n",
        "ev, v = fa.get_eigenvalues()\n",
        "ev\n"
      ],
      "execution_count": null,
      "outputs": [
        {
          "output_type": "execute_result",
          "data": {
            "text/html": [
              "<div>\n",
              "<style scoped>\n",
              "    .dataframe tbody tr th:only-of-type {\n",
              "        vertical-align: middle;\n",
              "    }\n",
              "\n",
              "    .dataframe tbody tr th {\n",
              "        vertical-align: top;\n",
              "    }\n",
              "\n",
              "    .dataframe thead th {\n",
              "        text-align: right;\n",
              "    }\n",
              "</style>\n",
              "<table border=\"1\" class=\"dataframe\">\n",
              "  <thead>\n",
              "    <tr style=\"text-align: right;\">\n",
              "      <th></th>\n",
              "      <th>Original_Eigenvalues</th>\n",
              "    </tr>\n",
              "  </thead>\n",
              "  <tbody>\n",
              "    <tr>\n",
              "      <th>0</th>\n",
              "      <td>1.013727</td>\n",
              "    </tr>\n",
              "    <tr>\n",
              "      <th>1</th>\n",
              "      <td>1.003085</td>\n",
              "    </tr>\n",
              "    <tr>\n",
              "      <th>2</th>\n",
              "      <td>0.983188</td>\n",
              "    </tr>\n",
              "  </tbody>\n",
              "</table>\n",
              "</div>"
            ],
            "text/plain": [
              "   Original_Eigenvalues\n",
              "0              1.013727\n",
              "1              1.003085\n",
              "2              0.983188"
            ]
          },
          "metadata": {},
          "execution_count": 108
        }
      ]
    },
    {
      "cell_type": "code",
      "metadata": {
        "colab": {
          "base_uri": "https://localhost:8080/",
          "height": 196
        },
        "id": "wDkV7yKQ2xFg",
        "outputId": "fa12346b-c818-40fa-ee85-a37f7c91e4f0"
      },
      "source": [
        "fa.analyze(df[['Crash Type','Christmas Period', 'Easter Period' ]], 1, rotation=\"varimax\")\n",
        "fa.loadings"
      ],
      "execution_count": null,
      "outputs": [
        {
          "output_type": "stream",
          "name": "stderr",
          "text": [
            "/usr/local/lib/python3.7/dist-packages/factor_analyzer/factor_analyzer.py:770: UserWarning: No rotation will be performed when the number of factors equals 1.\n",
            "  warnings.warn('No rotation will be performed when '\n"
          ]
        },
        {
          "output_type": "execute_result",
          "data": {
            "text/html": [
              "<div>\n",
              "<style scoped>\n",
              "    .dataframe tbody tr th:only-of-type {\n",
              "        vertical-align: middle;\n",
              "    }\n",
              "\n",
              "    .dataframe tbody tr th {\n",
              "        vertical-align: top;\n",
              "    }\n",
              "\n",
              "    .dataframe thead th {\n",
              "        text-align: right;\n",
              "    }\n",
              "</style>\n",
              "<table border=\"1\" class=\"dataframe\">\n",
              "  <thead>\n",
              "    <tr style=\"text-align: right;\">\n",
              "      <th></th>\n",
              "      <th>Factor1</th>\n",
              "    </tr>\n",
              "  </thead>\n",
              "  <tbody>\n",
              "    <tr>\n",
              "      <th>Crash Type</th>\n",
              "      <td>-0.008032</td>\n",
              "    </tr>\n",
              "    <tr>\n",
              "      <th>Christmas Period</th>\n",
              "      <td>-0.997497</td>\n",
              "    </tr>\n",
              "    <tr>\n",
              "      <th>Easter Period</th>\n",
              "      <td>0.012787</td>\n",
              "    </tr>\n",
              "  </tbody>\n",
              "</table>\n",
              "</div>"
            ],
            "text/plain": [
              "                   Factor1\n",
              "Crash Type       -0.008032\n",
              "Christmas Period -0.997497\n",
              "Easter Period     0.012787"
            ]
          },
          "metadata": {},
          "execution_count": 112
        }
      ]
    },
    {
      "cell_type": "code",
      "metadata": {
        "colab": {
          "base_uri": "https://localhost:8080/",
          "height": 142
        },
        "id": "w71L1puN38du",
        "outputId": "f7b8c352-84f2-45ba-a5e7-cd11495bf8c0"
      },
      "source": [
        "#getting the vaiance \n",
        "fa.get_factor_variance()"
      ],
      "execution_count": null,
      "outputs": [
        {
          "output_type": "execute_result",
          "data": {
            "text/html": [
              "<div>\n",
              "<style scoped>\n",
              "    .dataframe tbody tr th:only-of-type {\n",
              "        vertical-align: middle;\n",
              "    }\n",
              "\n",
              "    .dataframe tbody tr th {\n",
              "        vertical-align: top;\n",
              "    }\n",
              "\n",
              "    .dataframe thead th {\n",
              "        text-align: right;\n",
              "    }\n",
              "</style>\n",
              "<table border=\"1\" class=\"dataframe\">\n",
              "  <thead>\n",
              "    <tr style=\"text-align: right;\">\n",
              "      <th></th>\n",
              "      <th>Factor1</th>\n",
              "    </tr>\n",
              "  </thead>\n",
              "  <tbody>\n",
              "    <tr>\n",
              "      <th>SS Loadings</th>\n",
              "      <td>0.995229</td>\n",
              "    </tr>\n",
              "    <tr>\n",
              "      <th>Proportion Var</th>\n",
              "      <td>0.331743</td>\n",
              "    </tr>\n",
              "    <tr>\n",
              "      <th>Cumulative Var</th>\n",
              "      <td>0.331743</td>\n",
              "    </tr>\n",
              "  </tbody>\n",
              "</table>\n",
              "</div>"
            ],
            "text/plain": [
              "                 Factor1\n",
              "SS Loadings     0.995229\n",
              "Proportion Var  0.331743\n",
              "Cumulative Var  0.331743"
            ]
          },
          "metadata": {},
          "execution_count": 113
        }
      ]
    }
  ]
}