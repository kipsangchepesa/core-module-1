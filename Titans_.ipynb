{
  "nbformat": 4,
  "nbformat_minor": 0,
  "metadata": {
    "colab": {
      "name": "Titans .ipynb",
      "provenance": [],
      "collapsed_sections": [],
      "include_colab_link": true
    },
    "kernelspec": {
      "name": "python3",
      "display_name": "Python 3"
    },
    "language_info": {
      "name": "python"
    }
  },
  "cells": [
    {
      "cell_type": "markdown",
      "metadata": {
        "id": "view-in-github",
        "colab_type": "text"
      },
      "source": [
        "<a href=\"https://colab.research.google.com/github/kipsangchepesa/core-module-1/blob/main/Titans_.ipynb\" target=\"_parent\"><img src=\"https://colab.research.google.com/assets/colab-badge.svg\" alt=\"Open In Colab\"/></a>"
      ]
    },
    {
      "cell_type": "markdown",
      "metadata": {
        "id": "EUdFk-3Xwk2v"
      },
      "source": [
        "# **ANALYSIS RISK FACTORS OF CERVICAL CANCER.**"
      ]
    },
    {
      "cell_type": "markdown",
      "metadata": {
        "id": "xPIJcIpewn0s"
      },
      "source": [
        "# Defining the Question"
      ]
    },
    {
      "cell_type": "markdown",
      "metadata": {
        "id": "B-Q_TI0IwsbB"
      },
      "source": [
        "To determine if long term infection of human papillomavirus(HPV) is the main cause of cervical cancer."
      ]
    },
    {
      "cell_type": "markdown",
      "metadata": {
        "id": "bay4JnWNwvYJ"
      },
      "source": [
        "# Defining the Metric for Success"
      ]
    },
    {
      "cell_type": "markdown",
      "metadata": {
        "id": "512QjJS5w0AA"
      },
      "source": [
        "To create a model that can predict the likelihood of a woman being dignosed with cervical cancer from the risk factors being ivestigated."
      ]
    },
    {
      "cell_type": "markdown",
      "metadata": {
        "id": "832to_6vw7ti"
      },
      "source": [
        "# Understanding the context"
      ]
    },
    {
      "cell_type": "markdown",
      "metadata": {
        "id": "8AJYybvwxADq"
      },
      "source": [
        "This research was conducted in Caracas, Venezuela about 858 women in the hospital. It was conducted by recording the health history, demographic information and lifestyles. It aims at trying to prove the notion that having HPV is the main cause of cervical cancer and also try to build a model that can help in diagnosis of the disease."
      ]
    },
    {
      "cell_type": "markdown",
      "metadata": {
        "id": "J0t1YQFQxD2y"
      },
      "source": [
        "# Recording the Experimental Design"
      ]
    },
    {
      "cell_type": "markdown",
      "metadata": {
        "id": "4TOPOoz9xIZq"
      },
      "source": [
        "The following are the steps we are going to follow:\n",
        "\n",
        "Data cleaning and preparation.\n",
        "\n",
        "1.   Data cleaning and preparation.\n",
        "2.   Load libraries and datasets\n",
        "3.   Deal with missing values\n",
        "4.   Deal with duplicated values\n",
        "5.   Drop unnecessary columns.\n",
        "6.   Univariate analysis\n",
        "7.   Bivariate analysis\n",
        "8.   Multivariate analysis.\n",
        "9.   Hypothesis testing.\n",
        "10.  Conclusion and recomendation.\n"
      ]
    },
    {
      "cell_type": "code",
      "metadata": {
        "id": "gJahAcgxwcfj"
      },
      "source": [
        "#Importing necessary libraries\n",
        "import pandas as pd\n",
        "import numpy as np\n",
        "%matplotlib inline\n",
        "\n",
        "import matplotlib.pyplot as plt\n",
        "import seaborn as sns"
      ],
      "execution_count": null,
      "outputs": []
    },
    {
      "cell_type": "code",
      "metadata": {
        "id": "4Z-4LEV2yD6s"
      },
      "source": [
        "#Loading the dataset\n",
        "df= pd.read_csv(\"https://raw.githubusercontent.com/datasets/cervical-cancer/b8f016c3d703320e9b8cfc0023898c3f503c42da/data/cervical-cancer.csv\")"
      ],
      "execution_count": null,
      "outputs": []
    },
    {
      "cell_type": "code",
      "metadata": {
        "colab": {
          "base_uri": "https://localhost:8080/",
          "height": 290
        },
        "id": "9A9WRYAYyJi8",
        "outputId": "31aea28f-5dad-4d27-d1f2-7bceac2c8394"
      },
      "source": [
        "#previewing the head\n",
        "df.head()"
      ],
      "execution_count": null,
      "outputs": [
        {
          "output_type": "execute_result",
          "data": {
            "text/html": [
              "<div>\n",
              "<style scoped>\n",
              "    .dataframe tbody tr th:only-of-type {\n",
              "        vertical-align: middle;\n",
              "    }\n",
              "\n",
              "    .dataframe tbody tr th {\n",
              "        vertical-align: top;\n",
              "    }\n",
              "\n",
              "    .dataframe thead th {\n",
              "        text-align: right;\n",
              "    }\n",
              "</style>\n",
              "<table border=\"1\" class=\"dataframe\">\n",
              "  <thead>\n",
              "    <tr style=\"text-align: right;\">\n",
              "      <th></th>\n",
              "      <th>Age</th>\n",
              "      <th>Number of sexual partners</th>\n",
              "      <th>First sexual intercourse</th>\n",
              "      <th>Num of pregnancies</th>\n",
              "      <th>Smokes</th>\n",
              "      <th>Smokes (years)</th>\n",
              "      <th>Smokes (packs/year)</th>\n",
              "      <th>Hormonal Contraceptives</th>\n",
              "      <th>Hormonal Contraceptives (years)</th>\n",
              "      <th>IUD</th>\n",
              "      <th>IUD (years)</th>\n",
              "      <th>STDs</th>\n",
              "      <th>STDs (number)</th>\n",
              "      <th>STDs:condylomatosis</th>\n",
              "      <th>STDs:cervical condylomatosis</th>\n",
              "      <th>STDs:vaginal condylomatosis</th>\n",
              "      <th>STDs:vulvo-perineal condylomatosis</th>\n",
              "      <th>STDs:syphilis</th>\n",
              "      <th>STDs:pelvic inflammatory disease</th>\n",
              "      <th>STDs:genital herpes</th>\n",
              "      <th>STDs:molluscum contagiosum</th>\n",
              "      <th>STDs:AIDS</th>\n",
              "      <th>STDs:HIV</th>\n",
              "      <th>STDs:Hepatitis B</th>\n",
              "      <th>STDs:HPV</th>\n",
              "      <th>STDs: Number of diagnosis</th>\n",
              "      <th>STDs: Time since first diagnosis</th>\n",
              "      <th>STDs: Time since last diagnosis</th>\n",
              "      <th>Dx:Cancer</th>\n",
              "      <th>Dx:CIN</th>\n",
              "      <th>Dx:HPV</th>\n",
              "      <th>Dx</th>\n",
              "      <th>Hinselmann</th>\n",
              "      <th>Schiller</th>\n",
              "      <th>Citology</th>\n",
              "      <th>Biopsy</th>\n",
              "    </tr>\n",
              "  </thead>\n",
              "  <tbody>\n",
              "    <tr>\n",
              "      <th>0</th>\n",
              "      <td>18</td>\n",
              "      <td>4.0</td>\n",
              "      <td>15.0</td>\n",
              "      <td>1.0</td>\n",
              "      <td>0.0</td>\n",
              "      <td>0.0</td>\n",
              "      <td>0.0</td>\n",
              "      <td>0.0</td>\n",
              "      <td>0.0</td>\n",
              "      <td>0.0</td>\n",
              "      <td>0.0</td>\n",
              "      <td>0.0</td>\n",
              "      <td>0.0</td>\n",
              "      <td>0.0</td>\n",
              "      <td>0.0</td>\n",
              "      <td>0.0</td>\n",
              "      <td>0.0</td>\n",
              "      <td>0.0</td>\n",
              "      <td>0.0</td>\n",
              "      <td>0.0</td>\n",
              "      <td>0.0</td>\n",
              "      <td>0.0</td>\n",
              "      <td>0.0</td>\n",
              "      <td>0.0</td>\n",
              "      <td>0.0</td>\n",
              "      <td>0</td>\n",
              "      <td>NaN</td>\n",
              "      <td>NaN</td>\n",
              "      <td>0</td>\n",
              "      <td>0</td>\n",
              "      <td>0</td>\n",
              "      <td>0</td>\n",
              "      <td>0</td>\n",
              "      <td>0</td>\n",
              "      <td>0</td>\n",
              "      <td>0</td>\n",
              "    </tr>\n",
              "    <tr>\n",
              "      <th>1</th>\n",
              "      <td>15</td>\n",
              "      <td>1.0</td>\n",
              "      <td>14.0</td>\n",
              "      <td>1.0</td>\n",
              "      <td>0.0</td>\n",
              "      <td>0.0</td>\n",
              "      <td>0.0</td>\n",
              "      <td>0.0</td>\n",
              "      <td>0.0</td>\n",
              "      <td>0.0</td>\n",
              "      <td>0.0</td>\n",
              "      <td>0.0</td>\n",
              "      <td>0.0</td>\n",
              "      <td>0.0</td>\n",
              "      <td>0.0</td>\n",
              "      <td>0.0</td>\n",
              "      <td>0.0</td>\n",
              "      <td>0.0</td>\n",
              "      <td>0.0</td>\n",
              "      <td>0.0</td>\n",
              "      <td>0.0</td>\n",
              "      <td>0.0</td>\n",
              "      <td>0.0</td>\n",
              "      <td>0.0</td>\n",
              "      <td>0.0</td>\n",
              "      <td>0</td>\n",
              "      <td>NaN</td>\n",
              "      <td>NaN</td>\n",
              "      <td>0</td>\n",
              "      <td>0</td>\n",
              "      <td>0</td>\n",
              "      <td>0</td>\n",
              "      <td>0</td>\n",
              "      <td>0</td>\n",
              "      <td>0</td>\n",
              "      <td>0</td>\n",
              "    </tr>\n",
              "    <tr>\n",
              "      <th>2</th>\n",
              "      <td>34</td>\n",
              "      <td>1.0</td>\n",
              "      <td>NaN</td>\n",
              "      <td>1.0</td>\n",
              "      <td>0.0</td>\n",
              "      <td>0.0</td>\n",
              "      <td>0.0</td>\n",
              "      <td>0.0</td>\n",
              "      <td>0.0</td>\n",
              "      <td>0.0</td>\n",
              "      <td>0.0</td>\n",
              "      <td>0.0</td>\n",
              "      <td>0.0</td>\n",
              "      <td>0.0</td>\n",
              "      <td>0.0</td>\n",
              "      <td>0.0</td>\n",
              "      <td>0.0</td>\n",
              "      <td>0.0</td>\n",
              "      <td>0.0</td>\n",
              "      <td>0.0</td>\n",
              "      <td>0.0</td>\n",
              "      <td>0.0</td>\n",
              "      <td>0.0</td>\n",
              "      <td>0.0</td>\n",
              "      <td>0.0</td>\n",
              "      <td>0</td>\n",
              "      <td>NaN</td>\n",
              "      <td>NaN</td>\n",
              "      <td>0</td>\n",
              "      <td>0</td>\n",
              "      <td>0</td>\n",
              "      <td>0</td>\n",
              "      <td>0</td>\n",
              "      <td>0</td>\n",
              "      <td>0</td>\n",
              "      <td>0</td>\n",
              "    </tr>\n",
              "    <tr>\n",
              "      <th>3</th>\n",
              "      <td>52</td>\n",
              "      <td>5.0</td>\n",
              "      <td>16.0</td>\n",
              "      <td>4.0</td>\n",
              "      <td>1.0</td>\n",
              "      <td>37.0</td>\n",
              "      <td>37.0</td>\n",
              "      <td>1.0</td>\n",
              "      <td>3.0</td>\n",
              "      <td>0.0</td>\n",
              "      <td>0.0</td>\n",
              "      <td>0.0</td>\n",
              "      <td>0.0</td>\n",
              "      <td>0.0</td>\n",
              "      <td>0.0</td>\n",
              "      <td>0.0</td>\n",
              "      <td>0.0</td>\n",
              "      <td>0.0</td>\n",
              "      <td>0.0</td>\n",
              "      <td>0.0</td>\n",
              "      <td>0.0</td>\n",
              "      <td>0.0</td>\n",
              "      <td>0.0</td>\n",
              "      <td>0.0</td>\n",
              "      <td>0.0</td>\n",
              "      <td>0</td>\n",
              "      <td>NaN</td>\n",
              "      <td>NaN</td>\n",
              "      <td>1</td>\n",
              "      <td>0</td>\n",
              "      <td>1</td>\n",
              "      <td>0</td>\n",
              "      <td>0</td>\n",
              "      <td>0</td>\n",
              "      <td>0</td>\n",
              "      <td>0</td>\n",
              "    </tr>\n",
              "    <tr>\n",
              "      <th>4</th>\n",
              "      <td>46</td>\n",
              "      <td>3.0</td>\n",
              "      <td>21.0</td>\n",
              "      <td>4.0</td>\n",
              "      <td>0.0</td>\n",
              "      <td>0.0</td>\n",
              "      <td>0.0</td>\n",
              "      <td>1.0</td>\n",
              "      <td>15.0</td>\n",
              "      <td>0.0</td>\n",
              "      <td>0.0</td>\n",
              "      <td>0.0</td>\n",
              "      <td>0.0</td>\n",
              "      <td>0.0</td>\n",
              "      <td>0.0</td>\n",
              "      <td>0.0</td>\n",
              "      <td>0.0</td>\n",
              "      <td>0.0</td>\n",
              "      <td>0.0</td>\n",
              "      <td>0.0</td>\n",
              "      <td>0.0</td>\n",
              "      <td>0.0</td>\n",
              "      <td>0.0</td>\n",
              "      <td>0.0</td>\n",
              "      <td>0.0</td>\n",
              "      <td>0</td>\n",
              "      <td>NaN</td>\n",
              "      <td>NaN</td>\n",
              "      <td>0</td>\n",
              "      <td>0</td>\n",
              "      <td>0</td>\n",
              "      <td>0</td>\n",
              "      <td>0</td>\n",
              "      <td>0</td>\n",
              "      <td>0</td>\n",
              "      <td>0</td>\n",
              "    </tr>\n",
              "  </tbody>\n",
              "</table>\n",
              "</div>"
            ],
            "text/plain": [
              "   Age  Number of sexual partners  ...  Citology  Biopsy\n",
              "0   18                        4.0  ...         0       0\n",
              "1   15                        1.0  ...         0       0\n",
              "2   34                        1.0  ...         0       0\n",
              "3   52                        5.0  ...         0       0\n",
              "4   46                        3.0  ...         0       0\n",
              "\n",
              "[5 rows x 36 columns]"
            ]
          },
          "metadata": {},
          "execution_count": 4
        }
      ]
    },
    {
      "cell_type": "code",
      "metadata": {
        "colab": {
          "base_uri": "https://localhost:8080/",
          "height": 290
        },
        "id": "XU3dMerlyeG0",
        "outputId": "0dd48159-8d53-41e4-8ff1-ac1a9eb89389"
      },
      "source": [
        "#Previewing the tail\n",
        "df.tail()"
      ],
      "execution_count": null,
      "outputs": [
        {
          "output_type": "execute_result",
          "data": {
            "text/html": [
              "<div>\n",
              "<style scoped>\n",
              "    .dataframe tbody tr th:only-of-type {\n",
              "        vertical-align: middle;\n",
              "    }\n",
              "\n",
              "    .dataframe tbody tr th {\n",
              "        vertical-align: top;\n",
              "    }\n",
              "\n",
              "    .dataframe thead th {\n",
              "        text-align: right;\n",
              "    }\n",
              "</style>\n",
              "<table border=\"1\" class=\"dataframe\">\n",
              "  <thead>\n",
              "    <tr style=\"text-align: right;\">\n",
              "      <th></th>\n",
              "      <th>Age</th>\n",
              "      <th>Number of sexual partners</th>\n",
              "      <th>First sexual intercourse</th>\n",
              "      <th>Num of pregnancies</th>\n",
              "      <th>Smokes</th>\n",
              "      <th>Smokes (years)</th>\n",
              "      <th>Smokes (packs/year)</th>\n",
              "      <th>Hormonal Contraceptives</th>\n",
              "      <th>Hormonal Contraceptives (years)</th>\n",
              "      <th>IUD</th>\n",
              "      <th>IUD (years)</th>\n",
              "      <th>STDs</th>\n",
              "      <th>STDs (number)</th>\n",
              "      <th>STDs:condylomatosis</th>\n",
              "      <th>STDs:cervical condylomatosis</th>\n",
              "      <th>STDs:vaginal condylomatosis</th>\n",
              "      <th>STDs:vulvo-perineal condylomatosis</th>\n",
              "      <th>STDs:syphilis</th>\n",
              "      <th>STDs:pelvic inflammatory disease</th>\n",
              "      <th>STDs:genital herpes</th>\n",
              "      <th>STDs:molluscum contagiosum</th>\n",
              "      <th>STDs:AIDS</th>\n",
              "      <th>STDs:HIV</th>\n",
              "      <th>STDs:Hepatitis B</th>\n",
              "      <th>STDs:HPV</th>\n",
              "      <th>STDs: Number of diagnosis</th>\n",
              "      <th>STDs: Time since first diagnosis</th>\n",
              "      <th>STDs: Time since last diagnosis</th>\n",
              "      <th>Dx:Cancer</th>\n",
              "      <th>Dx:CIN</th>\n",
              "      <th>Dx:HPV</th>\n",
              "      <th>Dx</th>\n",
              "      <th>Hinselmann</th>\n",
              "      <th>Schiller</th>\n",
              "      <th>Citology</th>\n",
              "      <th>Biopsy</th>\n",
              "    </tr>\n",
              "  </thead>\n",
              "  <tbody>\n",
              "    <tr>\n",
              "      <th>830</th>\n",
              "      <td>34</td>\n",
              "      <td>3.0</td>\n",
              "      <td>18.0</td>\n",
              "      <td>0.0</td>\n",
              "      <td>0.0</td>\n",
              "      <td>0.0</td>\n",
              "      <td>0.0</td>\n",
              "      <td>0.0</td>\n",
              "      <td>0.00</td>\n",
              "      <td>0.0</td>\n",
              "      <td>0.0</td>\n",
              "      <td>0.0</td>\n",
              "      <td>0.0</td>\n",
              "      <td>0.0</td>\n",
              "      <td>0.0</td>\n",
              "      <td>0.0</td>\n",
              "      <td>0.0</td>\n",
              "      <td>0.0</td>\n",
              "      <td>0.0</td>\n",
              "      <td>0.0</td>\n",
              "      <td>0.0</td>\n",
              "      <td>0.0</td>\n",
              "      <td>0.0</td>\n",
              "      <td>0.0</td>\n",
              "      <td>0.0</td>\n",
              "      <td>0</td>\n",
              "      <td>NaN</td>\n",
              "      <td>NaN</td>\n",
              "      <td>0</td>\n",
              "      <td>0</td>\n",
              "      <td>0</td>\n",
              "      <td>0</td>\n",
              "      <td>0</td>\n",
              "      <td>0</td>\n",
              "      <td>0</td>\n",
              "      <td>0</td>\n",
              "    </tr>\n",
              "    <tr>\n",
              "      <th>831</th>\n",
              "      <td>32</td>\n",
              "      <td>2.0</td>\n",
              "      <td>19.0</td>\n",
              "      <td>1.0</td>\n",
              "      <td>0.0</td>\n",
              "      <td>0.0</td>\n",
              "      <td>0.0</td>\n",
              "      <td>1.0</td>\n",
              "      <td>8.00</td>\n",
              "      <td>0.0</td>\n",
              "      <td>0.0</td>\n",
              "      <td>0.0</td>\n",
              "      <td>0.0</td>\n",
              "      <td>0.0</td>\n",
              "      <td>0.0</td>\n",
              "      <td>0.0</td>\n",
              "      <td>0.0</td>\n",
              "      <td>0.0</td>\n",
              "      <td>0.0</td>\n",
              "      <td>0.0</td>\n",
              "      <td>0.0</td>\n",
              "      <td>0.0</td>\n",
              "      <td>0.0</td>\n",
              "      <td>0.0</td>\n",
              "      <td>0.0</td>\n",
              "      <td>0</td>\n",
              "      <td>NaN</td>\n",
              "      <td>NaN</td>\n",
              "      <td>0</td>\n",
              "      <td>0</td>\n",
              "      <td>0</td>\n",
              "      <td>0</td>\n",
              "      <td>0</td>\n",
              "      <td>0</td>\n",
              "      <td>0</td>\n",
              "      <td>0</td>\n",
              "    </tr>\n",
              "    <tr>\n",
              "      <th>832</th>\n",
              "      <td>25</td>\n",
              "      <td>2.0</td>\n",
              "      <td>17.0</td>\n",
              "      <td>0.0</td>\n",
              "      <td>0.0</td>\n",
              "      <td>0.0</td>\n",
              "      <td>0.0</td>\n",
              "      <td>1.0</td>\n",
              "      <td>0.08</td>\n",
              "      <td>0.0</td>\n",
              "      <td>0.0</td>\n",
              "      <td>0.0</td>\n",
              "      <td>0.0</td>\n",
              "      <td>0.0</td>\n",
              "      <td>0.0</td>\n",
              "      <td>0.0</td>\n",
              "      <td>0.0</td>\n",
              "      <td>0.0</td>\n",
              "      <td>0.0</td>\n",
              "      <td>0.0</td>\n",
              "      <td>0.0</td>\n",
              "      <td>0.0</td>\n",
              "      <td>0.0</td>\n",
              "      <td>0.0</td>\n",
              "      <td>0.0</td>\n",
              "      <td>0</td>\n",
              "      <td>NaN</td>\n",
              "      <td>NaN</td>\n",
              "      <td>0</td>\n",
              "      <td>0</td>\n",
              "      <td>0</td>\n",
              "      <td>0</td>\n",
              "      <td>0</td>\n",
              "      <td>0</td>\n",
              "      <td>1</td>\n",
              "      <td>0</td>\n",
              "    </tr>\n",
              "    <tr>\n",
              "      <th>833</th>\n",
              "      <td>33</td>\n",
              "      <td>2.0</td>\n",
              "      <td>24.0</td>\n",
              "      <td>2.0</td>\n",
              "      <td>0.0</td>\n",
              "      <td>0.0</td>\n",
              "      <td>0.0</td>\n",
              "      <td>1.0</td>\n",
              "      <td>0.08</td>\n",
              "      <td>0.0</td>\n",
              "      <td>0.0</td>\n",
              "      <td>0.0</td>\n",
              "      <td>0.0</td>\n",
              "      <td>0.0</td>\n",
              "      <td>0.0</td>\n",
              "      <td>0.0</td>\n",
              "      <td>0.0</td>\n",
              "      <td>0.0</td>\n",
              "      <td>0.0</td>\n",
              "      <td>0.0</td>\n",
              "      <td>0.0</td>\n",
              "      <td>0.0</td>\n",
              "      <td>0.0</td>\n",
              "      <td>0.0</td>\n",
              "      <td>0.0</td>\n",
              "      <td>0</td>\n",
              "      <td>NaN</td>\n",
              "      <td>NaN</td>\n",
              "      <td>0</td>\n",
              "      <td>0</td>\n",
              "      <td>0</td>\n",
              "      <td>0</td>\n",
              "      <td>0</td>\n",
              "      <td>0</td>\n",
              "      <td>0</td>\n",
              "      <td>0</td>\n",
              "    </tr>\n",
              "    <tr>\n",
              "      <th>834</th>\n",
              "      <td>29</td>\n",
              "      <td>2.0</td>\n",
              "      <td>20.0</td>\n",
              "      <td>1.0</td>\n",
              "      <td>0.0</td>\n",
              "      <td>0.0</td>\n",
              "      <td>0.0</td>\n",
              "      <td>1.0</td>\n",
              "      <td>0.50</td>\n",
              "      <td>0.0</td>\n",
              "      <td>0.0</td>\n",
              "      <td>0.0</td>\n",
              "      <td>0.0</td>\n",
              "      <td>0.0</td>\n",
              "      <td>0.0</td>\n",
              "      <td>0.0</td>\n",
              "      <td>0.0</td>\n",
              "      <td>0.0</td>\n",
              "      <td>0.0</td>\n",
              "      <td>0.0</td>\n",
              "      <td>0.0</td>\n",
              "      <td>0.0</td>\n",
              "      <td>0.0</td>\n",
              "      <td>0.0</td>\n",
              "      <td>0.0</td>\n",
              "      <td>0</td>\n",
              "      <td>NaN</td>\n",
              "      <td>NaN</td>\n",
              "      <td>0</td>\n",
              "      <td>0</td>\n",
              "      <td>0</td>\n",
              "      <td>0</td>\n",
              "      <td>0</td>\n",
              "      <td>0</td>\n",
              "      <td>0</td>\n",
              "      <td>0</td>\n",
              "    </tr>\n",
              "  </tbody>\n",
              "</table>\n",
              "</div>"
            ],
            "text/plain": [
              "     Age  Number of sexual partners  ...  Citology  Biopsy\n",
              "830   34                        3.0  ...         0       0\n",
              "831   32                        2.0  ...         0       0\n",
              "832   25                        2.0  ...         1       0\n",
              "833   33                        2.0  ...         0       0\n",
              "834   29                        2.0  ...         0       0\n",
              "\n",
              "[5 rows x 36 columns]"
            ]
          },
          "metadata": {},
          "execution_count": 5
        }
      ]
    },
    {
      "cell_type": "code",
      "metadata": {
        "colab": {
          "base_uri": "https://localhost:8080/",
          "height": 273
        },
        "id": "Dxs3MdCsyz3M",
        "outputId": "0b59ed40-9f97-4bc6-b343-6faae9b2754a"
      },
      "source": [
        "#Dropping unnecessarry columns because they were irrelevant to our analysis.\n",
        "#For example, STDs: Time since first diagnosis and STDs: Time since last diagnosis had 750 missing data.\n",
        "df.drop([\"Smokes (years)\", \"STDs (number)\", \"STDs: Number of diagnosis\", \"Smokes (packs/year)\",\n",
        "         \"Hormonal Contraceptives (years)\", \"IUD (years)\", \"STDs: Time since first diagnosis\", \"Hinselmann\", \"Schiller\", \"Citology\", \"Biopsy\",\n",
        "          \"STDs: Time since last diagnosis\",\"STDs:cervical condylomatosis\", \"STDs:AIDS\"], axis= 1, inplace= True)\n",
        "df.head()"
      ],
      "execution_count": null,
      "outputs": [
        {
          "output_type": "execute_result",
          "data": {
            "text/html": [
              "<div>\n",
              "<style scoped>\n",
              "    .dataframe tbody tr th:only-of-type {\n",
              "        vertical-align: middle;\n",
              "    }\n",
              "\n",
              "    .dataframe tbody tr th {\n",
              "        vertical-align: top;\n",
              "    }\n",
              "\n",
              "    .dataframe thead th {\n",
              "        text-align: right;\n",
              "    }\n",
              "</style>\n",
              "<table border=\"1\" class=\"dataframe\">\n",
              "  <thead>\n",
              "    <tr style=\"text-align: right;\">\n",
              "      <th></th>\n",
              "      <th>Age</th>\n",
              "      <th>Number of sexual partners</th>\n",
              "      <th>First sexual intercourse</th>\n",
              "      <th>Num of pregnancies</th>\n",
              "      <th>Smokes</th>\n",
              "      <th>Hormonal Contraceptives</th>\n",
              "      <th>IUD</th>\n",
              "      <th>STDs</th>\n",
              "      <th>STDs:condylomatosis</th>\n",
              "      <th>STDs:vaginal condylomatosis</th>\n",
              "      <th>STDs:vulvo-perineal condylomatosis</th>\n",
              "      <th>STDs:syphilis</th>\n",
              "      <th>STDs:pelvic inflammatory disease</th>\n",
              "      <th>STDs:genital herpes</th>\n",
              "      <th>STDs:molluscum contagiosum</th>\n",
              "      <th>STDs:HIV</th>\n",
              "      <th>STDs:Hepatitis B</th>\n",
              "      <th>STDs:HPV</th>\n",
              "      <th>Dx:Cancer</th>\n",
              "      <th>Dx:CIN</th>\n",
              "      <th>Dx:HPV</th>\n",
              "      <th>Dx</th>\n",
              "    </tr>\n",
              "  </thead>\n",
              "  <tbody>\n",
              "    <tr>\n",
              "      <th>0</th>\n",
              "      <td>18</td>\n",
              "      <td>4.0</td>\n",
              "      <td>15.0</td>\n",
              "      <td>1.0</td>\n",
              "      <td>0.0</td>\n",
              "      <td>0.0</td>\n",
              "      <td>0.0</td>\n",
              "      <td>0.0</td>\n",
              "      <td>0.0</td>\n",
              "      <td>0.0</td>\n",
              "      <td>0.0</td>\n",
              "      <td>0.0</td>\n",
              "      <td>0.0</td>\n",
              "      <td>0.0</td>\n",
              "      <td>0.0</td>\n",
              "      <td>0.0</td>\n",
              "      <td>0.0</td>\n",
              "      <td>0.0</td>\n",
              "      <td>0</td>\n",
              "      <td>0</td>\n",
              "      <td>0</td>\n",
              "      <td>0</td>\n",
              "    </tr>\n",
              "    <tr>\n",
              "      <th>1</th>\n",
              "      <td>15</td>\n",
              "      <td>1.0</td>\n",
              "      <td>14.0</td>\n",
              "      <td>1.0</td>\n",
              "      <td>0.0</td>\n",
              "      <td>0.0</td>\n",
              "      <td>0.0</td>\n",
              "      <td>0.0</td>\n",
              "      <td>0.0</td>\n",
              "      <td>0.0</td>\n",
              "      <td>0.0</td>\n",
              "      <td>0.0</td>\n",
              "      <td>0.0</td>\n",
              "      <td>0.0</td>\n",
              "      <td>0.0</td>\n",
              "      <td>0.0</td>\n",
              "      <td>0.0</td>\n",
              "      <td>0.0</td>\n",
              "      <td>0</td>\n",
              "      <td>0</td>\n",
              "      <td>0</td>\n",
              "      <td>0</td>\n",
              "    </tr>\n",
              "    <tr>\n",
              "      <th>2</th>\n",
              "      <td>34</td>\n",
              "      <td>1.0</td>\n",
              "      <td>NaN</td>\n",
              "      <td>1.0</td>\n",
              "      <td>0.0</td>\n",
              "      <td>0.0</td>\n",
              "      <td>0.0</td>\n",
              "      <td>0.0</td>\n",
              "      <td>0.0</td>\n",
              "      <td>0.0</td>\n",
              "      <td>0.0</td>\n",
              "      <td>0.0</td>\n",
              "      <td>0.0</td>\n",
              "      <td>0.0</td>\n",
              "      <td>0.0</td>\n",
              "      <td>0.0</td>\n",
              "      <td>0.0</td>\n",
              "      <td>0.0</td>\n",
              "      <td>0</td>\n",
              "      <td>0</td>\n",
              "      <td>0</td>\n",
              "      <td>0</td>\n",
              "    </tr>\n",
              "    <tr>\n",
              "      <th>3</th>\n",
              "      <td>52</td>\n",
              "      <td>5.0</td>\n",
              "      <td>16.0</td>\n",
              "      <td>4.0</td>\n",
              "      <td>1.0</td>\n",
              "      <td>1.0</td>\n",
              "      <td>0.0</td>\n",
              "      <td>0.0</td>\n",
              "      <td>0.0</td>\n",
              "      <td>0.0</td>\n",
              "      <td>0.0</td>\n",
              "      <td>0.0</td>\n",
              "      <td>0.0</td>\n",
              "      <td>0.0</td>\n",
              "      <td>0.0</td>\n",
              "      <td>0.0</td>\n",
              "      <td>0.0</td>\n",
              "      <td>0.0</td>\n",
              "      <td>1</td>\n",
              "      <td>0</td>\n",
              "      <td>1</td>\n",
              "      <td>0</td>\n",
              "    </tr>\n",
              "    <tr>\n",
              "      <th>4</th>\n",
              "      <td>46</td>\n",
              "      <td>3.0</td>\n",
              "      <td>21.0</td>\n",
              "      <td>4.0</td>\n",
              "      <td>0.0</td>\n",
              "      <td>1.0</td>\n",
              "      <td>0.0</td>\n",
              "      <td>0.0</td>\n",
              "      <td>0.0</td>\n",
              "      <td>0.0</td>\n",
              "      <td>0.0</td>\n",
              "      <td>0.0</td>\n",
              "      <td>0.0</td>\n",
              "      <td>0.0</td>\n",
              "      <td>0.0</td>\n",
              "      <td>0.0</td>\n",
              "      <td>0.0</td>\n",
              "      <td>0.0</td>\n",
              "      <td>0</td>\n",
              "      <td>0</td>\n",
              "      <td>0</td>\n",
              "      <td>0</td>\n",
              "    </tr>\n",
              "  </tbody>\n",
              "</table>\n",
              "</div>"
            ],
            "text/plain": [
              "   Age  Number of sexual partners  First sexual intercourse  ...  Dx:CIN  Dx:HPV  Dx\n",
              "0   18                        4.0                      15.0  ...       0       0   0\n",
              "1   15                        1.0                      14.0  ...       0       0   0\n",
              "2   34                        1.0                       NaN  ...       0       0   0\n",
              "3   52                        5.0                      16.0  ...       0       1   0\n",
              "4   46                        3.0                      21.0  ...       0       0   0\n",
              "\n",
              "[5 rows x 22 columns]"
            ]
          },
          "metadata": {},
          "execution_count": 6
        }
      ]
    },
    {
      "cell_type": "code",
      "metadata": {
        "colab": {
          "base_uri": "https://localhost:8080/"
        },
        "id": "Obf86Vfey-KU",
        "outputId": "1639204f-115f-4f89-d56a-268620e6a3ea"
      },
      "source": [
        "#Checking the shape of the dataset.\n",
        "df.shape"
      ],
      "execution_count": null,
      "outputs": [
        {
          "output_type": "execute_result",
          "data": {
            "text/plain": [
              "(835, 22)"
            ]
          },
          "metadata": {},
          "execution_count": 7
        }
      ]
    },
    {
      "cell_type": "code",
      "metadata": {
        "colab": {
          "base_uri": "https://localhost:8080/"
        },
        "id": "og516Zbby_Pp",
        "outputId": "ca7e3ca8-0b31-4981-80ae-999c164822b1"
      },
      "source": [
        "#Checking the information of the dataset\n",
        "df.info()"
      ],
      "execution_count": null,
      "outputs": [
        {
          "output_type": "stream",
          "name": "stdout",
          "text": [
            "<class 'pandas.core.frame.DataFrame'>\n",
            "RangeIndex: 835 entries, 0 to 834\n",
            "Data columns (total 22 columns):\n",
            " #   Column                              Non-Null Count  Dtype  \n",
            "---  ------                              --------------  -----  \n",
            " 0   Age                                 835 non-null    int64  \n",
            " 1   Number of sexual partners           810 non-null    float64\n",
            " 2   First sexual intercourse            828 non-null    float64\n",
            " 3   Num of pregnancies                  779 non-null    float64\n",
            " 4   Smokes                              822 non-null    float64\n",
            " 5   Hormonal Contraceptives             732 non-null    float64\n",
            " 6   IUD                                 723 non-null    float64\n",
            " 7   STDs                                735 non-null    float64\n",
            " 8   STDs:condylomatosis                 735 non-null    float64\n",
            " 9   STDs:vaginal condylomatosis         735 non-null    float64\n",
            " 10  STDs:vulvo-perineal condylomatosis  735 non-null    float64\n",
            " 11  STDs:syphilis                       735 non-null    float64\n",
            " 12  STDs:pelvic inflammatory disease    735 non-null    float64\n",
            " 13  STDs:genital herpes                 735 non-null    float64\n",
            " 14  STDs:molluscum contagiosum          735 non-null    float64\n",
            " 15  STDs:HIV                            735 non-null    float64\n",
            " 16  STDs:Hepatitis B                    735 non-null    float64\n",
            " 17  STDs:HPV                            735 non-null    float64\n",
            " 18  Dx:Cancer                           835 non-null    int64  \n",
            " 19  Dx:CIN                              835 non-null    int64  \n",
            " 20  Dx:HPV                              835 non-null    int64  \n",
            " 21  Dx                                  835 non-null    int64  \n",
            "dtypes: float64(17), int64(5)\n",
            "memory usage: 143.6 KB\n"
          ]
        }
      ]
    },
    {
      "cell_type": "code",
      "metadata": {
        "colab": {
          "base_uri": "https://localhost:8080/"
        },
        "id": "TY5QsNK7z2T4",
        "outputId": "f0960878-8660-4d8d-a552-571cfe32703b"
      },
      "source": [
        "#Checking if the datatypes are appropriate\n",
        "df.dtypes"
      ],
      "execution_count": null,
      "outputs": [
        {
          "output_type": "execute_result",
          "data": {
            "text/plain": [
              "Age                                     int64\n",
              "Number of sexual partners             float64\n",
              "First sexual intercourse              float64\n",
              "Num of pregnancies                    float64\n",
              "Smokes                                float64\n",
              "Hormonal Contraceptives               float64\n",
              "IUD                                   float64\n",
              "STDs                                  float64\n",
              "STDs:condylomatosis                   float64\n",
              "STDs:vaginal condylomatosis           float64\n",
              "STDs:vulvo-perineal condylomatosis    float64\n",
              "STDs:syphilis                         float64\n",
              "STDs:pelvic inflammatory disease      float64\n",
              "STDs:genital herpes                   float64\n",
              "STDs:molluscum contagiosum            float64\n",
              "STDs:HIV                              float64\n",
              "STDs:Hepatitis B                      float64\n",
              "STDs:HPV                              float64\n",
              "Dx:Cancer                               int64\n",
              "Dx:CIN                                  int64\n",
              "Dx:HPV                                  int64\n",
              "Dx                                      int64\n",
              "dtype: object"
            ]
          },
          "metadata": {},
          "execution_count": 9
        }
      ]
    },
    {
      "cell_type": "code",
      "metadata": {
        "id": "JlVN6Y1VLgOL"
      },
      "source": [
        "# Replacing all the missing with mode\n",
        "for column in df.columns:\n",
        "    df[column].fillna(df[column].mode()[0], inplace=True)"
      ],
      "execution_count": null,
      "outputs": []
    },
    {
      "cell_type": "code",
      "metadata": {
        "colab": {
          "base_uri": "https://localhost:8080/"
        },
        "id": "JC5RLbLS0JmG",
        "outputId": "5b4dd2c8-a774-4ce8-a1a5-628dd3b8ea5b"
      },
      "source": [
        "#Checking if there are missing or null values.\n",
        "df.isnull().sum()\n",
        "\n",
        "#We noticed there are null values so we have to deal with them."
      ],
      "execution_count": null,
      "outputs": [
        {
          "output_type": "execute_result",
          "data": {
            "text/plain": [
              "Age                                   0\n",
              "Number of sexual partners             0\n",
              "First sexual intercourse              0\n",
              "Num of pregnancies                    0\n",
              "Smokes                                0\n",
              "Hormonal Contraceptives               0\n",
              "IUD                                   0\n",
              "STDs                                  0\n",
              "STDs:condylomatosis                   0\n",
              "STDs:vaginal condylomatosis           0\n",
              "STDs:vulvo-perineal condylomatosis    0\n",
              "STDs:syphilis                         0\n",
              "STDs:pelvic inflammatory disease      0\n",
              "STDs:genital herpes                   0\n",
              "STDs:molluscum contagiosum            0\n",
              "STDs:HIV                              0\n",
              "STDs:Hepatitis B                      0\n",
              "STDs:HPV                              0\n",
              "Dx:Cancer                             0\n",
              "Dx:CIN                                0\n",
              "Dx:HPV                                0\n",
              "Dx                                    0\n",
              "dtype: int64"
            ]
          },
          "metadata": {},
          "execution_count": 11
        }
      ]
    },
    {
      "cell_type": "code",
      "metadata": {
        "id": "Za5km9nB6Zrw",
        "colab": {
          "base_uri": "https://localhost:8080/",
          "height": 445
        },
        "outputId": "c3b0b57e-41aa-4e34-bc67-7bc99f00c89d"
      },
      "source": [
        "#Checking for outliers in the numerical columns\n",
        "\n",
        "df.boxplot([\"Age\", \"Number of sexual partners\", \"First sexual intercourse\", \"Num of pregnancies\"] , grid=False, figsize=[10,7])"
      ],
      "execution_count": null,
      "outputs": [
        {
          "output_type": "execute_result",
          "data": {
            "text/plain": [
              "<matplotlib.axes._subplots.AxesSubplot at 0x7fdb506cbbd0>"
            ]
          },
          "metadata": {},
          "execution_count": 12
        },
        {
          "output_type": "display_data",
          "data": {
            "image/png": "[encoded data removed]",
            "text/plain": [
              "<Figure size 720x504 with 1 Axes>"
            ]
          },
          "metadata": {
            "needs_background": "light"
          }
        }
      ]
    },
    {
      "cell_type": "code",
      "metadata": {
        "id": "YMt5uSwt6l4v"
      },
      "source": [
        "df.to_csv('cervical_cancer.csv',index=False)"
      ],
      "execution_count": null,
      "outputs": []
    },
    {
      "cell_type": "code",
      "metadata": {
        "colab": {
          "base_uri": "https://localhost:8080/",
          "height": 150
        },
        "id": "vXz9oaRK7k-v",
        "outputId": "45d5a728-4b41-453e-84bd-f688c00c94e7"
      },
      "source": [
        "df5 = pd.read_csv('cervical_cancer.csv')\n",
        "df5.head(1)\n",
        "df5"
      ],
      "execution_count": null,
      "outputs": [
        {
          "output_type": "execute_result",
          "data": {
            "text/html": [
              "<div>\n",
              "<style scoped>\n",
              "    .dataframe tbody tr th:only-of-type {\n",
              "        vertical-align: middle;\n",
              "    }\n",
              "\n",
              "    .dataframe tbody tr th {\n",
              "        vertical-align: top;\n",
              "    }\n",
              "\n",
              "    .dataframe thead th {\n",
              "        text-align: right;\n",
              "    }\n",
              "</style>\n",
              "<table border=\"1\" class=\"dataframe\">\n",
              "  <thead>\n",
              "    <tr style=\"text-align: right;\">\n",
              "      <th></th>\n",
              "      <th>Age</th>\n",
              "      <th>Number of sexual partners</th>\n",
              "      <th>First sexual intercourse</th>\n",
              "      <th>Num of pregnancies</th>\n",
              "      <th>Smokes</th>\n",
              "      <th>Hormonal Contraceptives</th>\n",
              "      <th>IUD</th>\n",
              "      <th>STDs</th>\n",
              "      <th>STDs:condylomatosis</th>\n",
              "      <th>STDs:vaginal condylomatosis</th>\n",
              "      <th>STDs:vulvo-perineal condylomatosis</th>\n",
              "      <th>STDs:syphilis</th>\n",
              "      <th>STDs:pelvic inflammatory disease</th>\n",
              "      <th>STDs:genital herpes</th>\n",
              "      <th>STDs:molluscum contagiosum</th>\n",
              "      <th>STDs:HIV</th>\n",
              "      <th>STDs:Hepatitis B</th>\n",
              "      <th>STDs:HPV</th>\n",
              "      <th>Dx:Cancer</th>\n",
              "      <th>Dx:CIN</th>\n",
              "      <th>Dx:HPV</th>\n",
              "      <th>Dx</th>\n",
              "    </tr>\n",
              "  </thead>\n",
              "  <tbody>\n",
              "    <tr>\n",
              "      <th>0</th>\n",
              "      <td>18</td>\n",
              "      <td>4.0</td>\n",
              "      <td>15.0</td>\n",
              "      <td>1.0</td>\n",
              "      <td>0.0</td>\n",
              "      <td>0.0</td>\n",
              "      <td>0.0</td>\n",
              "      <td>0.0</td>\n",
              "      <td>0.0</td>\n",
              "      <td>0.0</td>\n",
              "      <td>0.0</td>\n",
              "      <td>0.0</td>\n",
              "      <td>0.0</td>\n",
              "      <td>0.0</td>\n",
              "      <td>0.0</td>\n",
              "      <td>0.0</td>\n",
              "      <td>0.0</td>\n",
              "      <td>0.0</td>\n",
              "      <td>0</td>\n",
              "      <td>0</td>\n",
              "      <td>0</td>\n",
              "      <td>0</td>\n",
              "    </tr>\n",
              "  </tbody>\n",
              "</table>\n",
              "</div>"
            ],
            "text/plain": [
              "   Age  Number of sexual partners  First sexual intercourse  ...  Dx:CIN  Dx:HPV  Dx\n",
              "0   18                        4.0                      15.0  ...       0       0   0\n",
              "\n",
              "[1 rows x 22 columns]"
            ]
          },
          "metadata": {},
          "execution_count": 14
        }
      ]
    },
    {
      "cell_type": "code",
      "metadata": {
        "colab": {
          "base_uri": "https://localhost:8080/"
        },
        "id": "hKBjCriE9KH9",
        "outputId": "caa7c3fd-ce96-4c44-a3dc-04ee767e1b01"
      },
      "source": [
        "df5.iloc(['Dx'] == 1)"
      ],
      "execution_count": null,
      "outputs": [
        {
          "output_type": "execute_result",
          "data": {
            "text/plain": [
              "<pandas.core.indexing._iLocIndexer at 0x7fdb4b0dbfb0>"
            ]
          },
          "metadata": {},
          "execution_count": 16
        }
      ]
    },
    {
      "cell_type": "markdown",
      "metadata": {
        "id": "jXOtAWQ_D3XZ"
      },
      "source": [
        "# UNIVARIATE ANALYSIS"
      ]
    },
    {
      "cell_type": "code",
      "metadata": {
        "id": "QuI-VXn6_5I3",
        "colab": {
          "base_uri": "https://localhost:8080/",
          "height": 295
        },
        "outputId": "a441575b-334e-4638-9238-a41f48651fa7"
      },
      "source": [
        "#plotting  Histogram\n",
        "x = df['Age']\n",
        "num_bins = 10\n",
        "\n",
        "plt.hist(x, bins=10, histtype='bar', rwidth=0.9)\n",
        "\n",
        "plt.xlabel(\"Bin age\")\n",
        "plt.ylabel(\"Count Age\")\n",
        "plt.title('Histogram of age') \n",
        "plt.show()"
      ],
      "execution_count": null,
      "outputs": [
        {
          "output_type": "display_data",
          "data": {
            "image/png": "[encoded data removed]",
            "text/plain": [
              "<Figure size 432x288 with 1 Axes>"
            ]
          },
          "metadata": {
            "needs_background": "light"
          }
        }
      ]
    },
    {
      "cell_type": "code",
      "metadata": {
        "id": "-n-gxPZpGiV7",
        "colab": {
          "base_uri": "https://localhost:8080/"
        },
        "outputId": "06524725-a9e9-4cb8-898e-2a50c6aec0ec"
      },
      "source": [
        "# Frequency table\n",
        "df['Number of sexual partners'].value_counts()"
      ],
      "execution_count": null,
      "outputs": [
        {
          "output_type": "execute_result",
          "data": {
            "text/plain": [
              "2.0     291\n",
              "3.0     207\n",
              "1.0     193\n",
              "4.0      76\n",
              "5.0      44\n",
              "6.0       9\n",
              "7.0       7\n",
              "8.0       4\n",
              "9.0       1\n",
              "28.0      1\n",
              "10.0      1\n",
              "15.0      1\n",
              "Name: Number of sexual partners, dtype: int64"
            ]
          },
          "metadata": {},
          "execution_count": 187
        }
      ]
    },
    {
      "cell_type": "code",
      "metadata": {
        "id": "5N-rq1sEIWTt",
        "colab": {
          "base_uri": "https://localhost:8080/",
          "height": 351
        },
        "outputId": "c0809519-4d7e-428d-d5d7-f05263033ff6"
      },
      "source": [
        "# Box Plot \n",
        "sns.boxplot(df[\"Number of sexual partners\"], showmeans=True)\n",
        "plt.show"
      ],
      "execution_count": null,
      "outputs": [
        {
          "output_type": "stream",
          "name": "stderr",
          "text": [
            "/usr/local/lib/python3.7/dist-packages/seaborn/_decorators.py:43: FutureWarning: Pass the following variable as a keyword arg: x. From version 0.12, the only valid positional argument will be `data`, and passing other arguments without an explicit keyword will result in an error or misinterpretation.\n",
            "  FutureWarning\n"
          ]
        },
        {
          "output_type": "execute_result",
          "data": {
            "text/plain": [
              "<function matplotlib.pyplot.show>"
            ]
          },
          "metadata": {},
          "execution_count": 190
        },
        {
          "output_type": "display_data",
          "data": {
            "image/png": "[encoded data removed]",
            "text/plain": [
              "<Figure size 432x288 with 1 Axes>"
            ]
          },
          "metadata": {
            "needs_background": "light"
          }
        }
      ]
    },
    {
      "cell_type": "code",
      "metadata": {
        "id": "T5Itx5h1XNkj",
        "colab": {
          "base_uri": "https://localhost:8080/"
        },
        "outputId": "8f95fad3-2d8b-4a54-dfa8-6945c1aeb0f3"
      },
      "source": [
        "# Measure of Central Tendancy (Mean)\n",
        "df[[\"Age\", \"Number of sexual partners\", \"First sexual intercourse\", \"Num of pregnancies\"]].mean().round()"
      ],
      "execution_count": null,
      "outputs": [
        {
          "output_type": "execute_result",
          "data": {
            "text/plain": [
              "Age                          27.0\n",
              "Number of sexual partners     3.0\n",
              "First sexual intercourse     17.0\n",
              "Num of pregnancies            2.0\n",
              "dtype: float64"
            ]
          },
          "metadata": {},
          "execution_count": 193
        }
      ]
    },
    {
      "cell_type": "code",
      "metadata": {
        "id": "QPxvNi4BXmsR",
        "colab": {
          "base_uri": "https://localhost:8080/",
          "height": 81
        },
        "outputId": "7285beea-17ca-40dd-cf26-970d300669df"
      },
      "source": [
        "# Measure of Central Tendancy(mode)\n",
        "df[[\"Age\", \"Number of sexual partners\", \"First sexual intercourse\", \"Num of pregnancies\"]].mode()"
      ],
      "execution_count": null,
      "outputs": [
        {
          "output_type": "execute_result",
          "data": {
            "text/html": [
              "<div>\n",
              "<style scoped>\n",
              "    .dataframe tbody tr th:only-of-type {\n",
              "        vertical-align: middle;\n",
              "    }\n",
              "\n",
              "    .dataframe tbody tr th {\n",
              "        vertical-align: top;\n",
              "    }\n",
              "\n",
              "    .dataframe thead th {\n",
              "        text-align: right;\n",
              "    }\n",
              "</style>\n",
              "<table border=\"1\" class=\"dataframe\">\n",
              "  <thead>\n",
              "    <tr style=\"text-align: right;\">\n",
              "      <th></th>\n",
              "      <th>Age</th>\n",
              "      <th>Number of sexual partners</th>\n",
              "      <th>First sexual intercourse</th>\n",
              "      <th>Num of pregnancies</th>\n",
              "    </tr>\n",
              "  </thead>\n",
              "  <tbody>\n",
              "    <tr>\n",
              "      <th>0</th>\n",
              "      <td>23</td>\n",
              "      <td>2.0</td>\n",
              "      <td>15.0</td>\n",
              "      <td>1.0</td>\n",
              "    </tr>\n",
              "  </tbody>\n",
              "</table>\n",
              "</div>"
            ],
            "text/plain": [
              "   Age  Number of sexual partners  First sexual intercourse  Num of pregnancies\n",
              "0   23                        2.0                      15.0                 1.0"
            ]
          },
          "metadata": {},
          "execution_count": 194
        }
      ]
    },
    {
      "cell_type": "code",
      "metadata": {
        "id": "N6NP1cbwX6Ds",
        "colab": {
          "base_uri": "https://localhost:8080/"
        },
        "outputId": "7e976d4a-deeb-4923-ccfc-7049d34bb337"
      },
      "source": [
        "# Measure of Central Tendancy(median)\n",
        "df[[\"Age\", \"Number of sexual partners\", \"First sexual intercourse\", \"Num of pregnancies\"]].median()"
      ],
      "execution_count": null,
      "outputs": [
        {
          "output_type": "execute_result",
          "data": {
            "text/plain": [
              "Age                          26.0\n",
              "Number of sexual partners     2.0\n",
              "First sexual intercourse     17.0\n",
              "Num of pregnancies            2.0\n",
              "dtype: float64"
            ]
          },
          "metadata": {},
          "execution_count": 195
        }
      ]
    },
    {
      "cell_type": "code",
      "metadata": {
        "id": "3ZS5EmkTX_Yu",
        "colab": {
          "base_uri": "https://localhost:8080/"
        },
        "outputId": "ac01784a-7b87-4cf7-9e7d-e1701a39339e"
      },
      "source": [
        "# Measure of dispersion (standartd Deviation)\n",
        "df[[\"Age\", \"Number of sexual partners\", \"First sexual intercourse\", \"Num of pregnancies\"]].std()"
      ],
      "execution_count": null,
      "outputs": [
        {
          "output_type": "execute_result",
          "data": {
            "text/plain": [
              "Age                          8.482986\n",
              "Number of sexual partners    1.654044\n",
              "First sexual intercourse     2.811203\n",
              "Num of pregnancies           1.443486\n",
              "dtype: float64"
            ]
          },
          "metadata": {},
          "execution_count": 196
        }
      ]
    },
    {
      "cell_type": "code",
      "metadata": {
        "id": "xt4xdPZhYvSd",
        "colab": {
          "base_uri": "https://localhost:8080/",
          "height": 143
        },
        "outputId": "7f45c128-a7c5-4596-b8eb-04bf795fb39c"
      },
      "source": [
        "# Measure of dispersion(Quantile)\n",
        "\n",
        "df[[\"Age\", \"Number of sexual partners\", \"First sexual intercourse\", \"Num of pregnancies\"]].quantile([0.25,0.5,0.75])"
      ],
      "execution_count": null,
      "outputs": [
        {
          "output_type": "execute_result",
          "data": {
            "text/html": [
              "<div>\n",
              "<style scoped>\n",
              "    .dataframe tbody tr th:only-of-type {\n",
              "        vertical-align: middle;\n",
              "    }\n",
              "\n",
              "    .dataframe tbody tr th {\n",
              "        vertical-align: top;\n",
              "    }\n",
              "\n",
              "    .dataframe thead th {\n",
              "        text-align: right;\n",
              "    }\n",
              "</style>\n",
              "<table border=\"1\" class=\"dataframe\">\n",
              "  <thead>\n",
              "    <tr style=\"text-align: right;\">\n",
              "      <th></th>\n",
              "      <th>Age</th>\n",
              "      <th>Number of sexual partners</th>\n",
              "      <th>First sexual intercourse</th>\n",
              "      <th>Num of pregnancies</th>\n",
              "    </tr>\n",
              "  </thead>\n",
              "  <tbody>\n",
              "    <tr>\n",
              "      <th>0.25</th>\n",
              "      <td>21.0</td>\n",
              "      <td>2.0</td>\n",
              "      <td>15.0</td>\n",
              "      <td>1.0</td>\n",
              "    </tr>\n",
              "    <tr>\n",
              "      <th>0.50</th>\n",
              "      <td>26.0</td>\n",
              "      <td>2.0</td>\n",
              "      <td>17.0</td>\n",
              "      <td>2.0</td>\n",
              "    </tr>\n",
              "    <tr>\n",
              "      <th>0.75</th>\n",
              "      <td>32.0</td>\n",
              "      <td>3.0</td>\n",
              "      <td>18.0</td>\n",
              "      <td>3.0</td>\n",
              "    </tr>\n",
              "  </tbody>\n",
              "</table>\n",
              "</div>"
            ],
            "text/plain": [
              "       Age  ...  Num of pregnancies\n",
              "0.25  21.0  ...                 1.0\n",
              "0.50  26.0  ...                 2.0\n",
              "0.75  32.0  ...                 3.0\n",
              "\n",
              "[3 rows x 4 columns]"
            ]
          },
          "metadata": {},
          "execution_count": 197
        }
      ]
    },
    {
      "cell_type": "code",
      "metadata": {
        "id": "ocQDff3LYWwP",
        "colab": {
          "base_uri": "https://localhost:8080/"
        },
        "outputId": "defabf59-a08c-41e6-fe24-067aa847f764"
      },
      "source": [
        "# Measure of dispersion(varience)\n",
        "\n",
        "df[[\"Age\", \"Number of sexual partners\", \"First sexual intercourse\", \"Num of pregnancies\"]].var()"
      ],
      "execution_count": null,
      "outputs": [
        {
          "output_type": "execute_result",
          "data": {
            "text/plain": [
              "Age                          71.961056\n",
              "Number of sexual partners     2.735861\n",
              "First sexual intercourse      7.902865\n",
              "Num of pregnancies            2.083651\n",
              "dtype: float64"
            ]
          },
          "metadata": {},
          "execution_count": 198
        }
      ]
    },
    {
      "cell_type": "code",
      "metadata": {
        "id": "M7YjaznJYZBP",
        "colab": {
          "base_uri": "https://localhost:8080/"
        },
        "outputId": "8152a283-12df-4609-f978-115709c420eb"
      },
      "source": [
        "# Measure of dispersion(kurtosis)\n",
        "df[[\"Age\", \"Number of sexual partners\", \"First sexual intercourse\", \"Num of pregnancies\"]].kurt()"
      ],
      "execution_count": null,
      "outputs": [
        {
          "output_type": "execute_result",
          "data": {
            "text/plain": [
              "Age                           4.866192\n",
              "Number of sexual partners    71.243023\n",
              "First sexual intercourse      4.313250\n",
              "Num of pregnancies            3.290051\n",
              "dtype: float64"
            ]
          },
          "metadata": {},
          "execution_count": 199
        }
      ]
    },
    {
      "cell_type": "code",
      "metadata": {
        "id": "Smwxdb0vYcK4",
        "colab": {
          "base_uri": "https://localhost:8080/"
        },
        "outputId": "420c49e9-0702-4088-a0c3-222b7e142ccc"
      },
      "source": [
        "# Measure of dispersion (skweness)\n",
        "df[[\"Age\", \"Number of sexual partners\", \"First sexual intercourse\", \"Num of pregnancies\"]].skew()"
      ],
      "execution_count": null,
      "outputs": [
        {
          "output_type": "execute_result",
          "data": {
            "text/plain": [
              "Age                          1.403917\n",
              "Number of sexual partners    5.567192\n",
              "First sexual intercourse     1.578100\n",
              "Num of pregnancies           1.468343\n",
              "dtype: float64"
            ]
          },
          "metadata": {},
          "execution_count": 200
        }
      ]
    },
    {
      "cell_type": "markdown",
      "metadata": {
        "id": "9VTqnf0AZT9Q"
      },
      "source": [
        "# BIVARIATE ANALYSIS."
      ]
    },
    {
      "cell_type": "code",
      "metadata": {
        "id": "L5vB_ncxYh4a",
        "colab": {
          "base_uri": "https://localhost:8080/",
          "height": 295
        },
        "outputId": "6a234ef7-5fc9-4c0b-84ae-56b32e371b9e"
      },
      "source": [
        "# Plotting our scatterplot to compare the variables\n",
        "\n",
        "# Using Matplotlib: Plotting our scatterplot to compare the variables\n",
        "plt.scatter(df[\"Number of sexual partners\"] , df[\"Age\"])\n",
        "\n",
        "# Giving our scatterplot a title\n",
        "plt.title('Age vs Number of sexual partners')\n",
        "\n",
        "# Labelling our x axis\n",
        "plt.xlabel('Number of sexual partners')\n",
        "\n",
        "# Labelling our y axis\n",
        "plt.ylabel('Age')\n",
        "\n",
        "# We then display our scatterplot as shown below\n",
        "plt.show()\n",
        "\n",
        "#Conclusion \n",
        "#There is correlation bewtween age and number of sexual partners "
      ],
      "execution_count": null,
      "outputs": [
        {
          "output_type": "display_data",
          "data": {
            "image/png": "[encoded data removed]",
            "text/plain": [
              "<Figure size 432x288 with 1 Axes>"
            ]
          },
          "metadata": {
            "needs_background": "light"
          }
        }
      ]
    },
    {
      "cell_type": "code",
      "metadata": {
        "id": "_qjVfi2Ve5Zz",
        "colab": {
          "base_uri": "https://localhost:8080/",
          "height": 295
        },
        "outputId": "e39b503d-c337-41e2-9ab1-bec53d32d6c5"
      },
      "source": [
        "# Plotting our scatterplot to compare the variables\n",
        "#trees_df.plot(x = 'diameter_at_breast_height_cm', y = 'clear_fell_ksh/_m_cubed', kind='scatter')\n",
        "\n",
        "# Or Using Matplotlib: Plotting our scatterplot to compare the variables\n",
        "plt.scatter(df[\"Num of pregnancies\"] , df[\"Age\"])\n",
        "\n",
        "# Giving our scatterplot a title\n",
        "plt.title('Age vs Num of pregnancies')\n",
        "\n",
        "# Labelling our x axis\n",
        "plt.xlabel('Num of pregnancies')\n",
        "\n",
        "# Labelling our y axis\n",
        "plt.ylabel('Age')\n",
        "\n",
        "# We then display our scatterplot as shown below\n",
        "plt.show()\n",
        "\n",
        "#conclusion \n",
        "# THere is no corrrelation between the number of pregnancies and age "
      ],
      "execution_count": null,
      "outputs": [
        {
          "output_type": "display_data",
          "data": {
            "image/png": "[encoded data removed]",
            "text/plain": [
              "<Figure size 432x288 with 1 Axes>"
            ]
          },
          "metadata": {
            "needs_background": "light"
          }
        }
      ]
    },
    {
      "cell_type": "code",
      "metadata": {
        "colab": {
          "base_uri": "https://localhost:8080/",
          "height": 473
        },
        "id": "8oOhvXORVYZK",
        "outputId": "bbcf4355-f96b-44ca-b6f7-5e9ae9814136"
      },
      "source": [
        "# plotting a scatter plot\n",
        "\n",
        "x= df[['Num of pregnancies','Dx','Dx:Cancer','Dx:CIN','Dx:HPV']]\n",
        "y= x.set_index('Num of pregnancies')\n",
        "z=y.groupby('Num of pregnancies').count()\n",
        "\n",
        "\n",
        "z.plot.bar(stacked=True, figsize = [10,7])"
      ],
      "execution_count": null,
      "outputs": [
        {
          "output_type": "execute_result",
          "data": {
            "text/plain": [
              "<matplotlib.axes._subplots.AxesSubplot at 0x7f1619fb4790>"
            ]
          },
          "metadata": {},
          "execution_count": 226
        },
        {
          "output_type": "display_data",
          "data": {
            "image/png": "[encoded data removed]",
            "text/plain": [
              "<Figure size 720x504 with 1 Axes>"
            ]
          },
          "metadata": {
            "needs_background": "light"
          }
        }
      ]
    },
    {
      "cell_type": "code",
      "metadata": {
        "id": "SlYWkN7DfeL9",
        "colab": {
          "base_uri": "https://localhost:8080/",
          "height": 719
        },
        "outputId": "1b414440-0c2e-4fe4-9de6-bb88ba51ef88"
      },
      "source": [
        "#Plotting a heat map to show correlation between the variables\n",
        "plt.figure(figsize=(14,10))\n",
        "sns.heatmap(df1.corr(),annot=True,cmap=\"Reds\",fmt=\".2f\");\n",
        "plt.show()"
      ],
      "execution_count": null,
      "outputs": [
        {
          "output_type": "display_data",
          "data": {
            "image/png": "[encoded data removed]",
            "text/plain": [
              "<Figure size 1008x720 with 2 Axes>"
            ]
          },
          "metadata": {
            "needs_background": "light"
          }
        }
      ]
    },
    {
      "cell_type": "markdown",
      "metadata": {
        "id": "j-7lbsrbXGop"
      },
      "source": [
        "#### Heat map summary\n",
        "1.   There is a correlation between HIV and STDs.\n",
        "2.   There is a correlation between STDs:Hepatitis B and STDs.\n",
        "3.   There is a very high correlation between HPV Diagnosis and       Having another cancer.\n",
        "4.   There is a strong correlation between Diagnosis of HPV and diagnosis of cervical cancer.\n",
        "5.   Similarly there is a strong correlation between Diagnosis of CIN and diagnosis of cervical cancer.\n",
        "6.  Similarly there is a strong correlation between Diagnosis of another cancer and diagnosis of\n",
        "7.  There is a correlation between the age of a person and the number of pregnancies they have had.\n",
        "8.  There is a very high correlation between STDs:vulvo-perineal condylomatosis and STDs:condylomatosis."
      ]
    },
    {
      "cell_type": "markdown",
      "metadata": {
        "id": "cgmENf5aCqAI"
      },
      "source": [
        "# **MULTIVARIATE ANALYSIS**"
      ]
    },
    {
      "cell_type": "code",
      "metadata": {
        "id": "zRgMhN9-g44M",
        "colab": {
          "base_uri": "https://localhost:8080/",
          "height": 707
        },
        "outputId": "f6a5c84a-a3a8-4aaa-9bae-87de6f9ae872"
      },
      "source": [
        "# Separating our target label (has bank account) from the other features\n",
        "feat= df.drop(['Dx'], axis= 1)\n",
        "cancer_label = df['Dx']\n",
        "\n",
        "# Subject our features to LDA model\n",
        "\n",
        "# Import Linear Discriminant Analysis method from sklearn library\n",
        "from sklearn.discriminant_analysis import LinearDiscriminantAnalysis as LDA\n",
        "\n",
        "# Create an instance of LDA\n",
        "lda = LDA()\n",
        "\n",
        "lda_= lda.fit(feat, cancer_label)\n",
        "lda_feat = lda_.transform(feat)\n",
        "\n",
        "# Display the coeficients of the reducted columns\n",
        "lda_.coef_\n",
        "\n",
        "# Since the coefficients are in an array, we needto create a dataframe so \n",
        "#that we can extract the name of the columns\n",
        "\n",
        "f_imp = pd.DataFrame(index=feat.columns.values, data=lda_.coef_[0].T)\n",
        "f_imp.sort_values(0, ascending=False)"
      ],
      "execution_count": null,
      "outputs": [
        {
          "output_type": "execute_result",
          "data": {
            "text/html": [
              "<div>\n",
              "<style scoped>\n",
              "    .dataframe tbody tr th:only-of-type {\n",
              "        vertical-align: middle;\n",
              "    }\n",
              "\n",
              "    .dataframe tbody tr th {\n",
              "        vertical-align: top;\n",
              "    }\n",
              "\n",
              "    .dataframe thead th {\n",
              "        text-align: right;\n",
              "    }\n",
              "</style>\n",
              "<table border=\"1\" class=\"dataframe\">\n",
              "  <thead>\n",
              "    <tr style=\"text-align: right;\">\n",
              "      <th></th>\n",
              "      <th>0</th>\n",
              "    </tr>\n",
              "  </thead>\n",
              "  <tbody>\n",
              "    <tr>\n",
              "      <th>Dx:CIN</th>\n",
              "      <td>222.012218</td>\n",
              "    </tr>\n",
              "    <tr>\n",
              "      <th>Dx:Cancer</th>\n",
              "      <td>143.811260</td>\n",
              "    </tr>\n",
              "    <tr>\n",
              "      <th>Dx:HPV</th>\n",
              "      <td>40.423215</td>\n",
              "    </tr>\n",
              "    <tr>\n",
              "      <th>IUD</th>\n",
              "      <td>5.249377</td>\n",
              "    </tr>\n",
              "    <tr>\n",
              "      <th>STDs:vulvo-perineal condylomatosis</th>\n",
              "      <td>5.120457</td>\n",
              "    </tr>\n",
              "    <tr>\n",
              "      <th>STDs:syphilis</th>\n",
              "      <td>1.279477</td>\n",
              "    </tr>\n",
              "    <tr>\n",
              "      <th>STDs:vaginal condylomatosis</th>\n",
              "      <td>1.131441</td>\n",
              "    </tr>\n",
              "    <tr>\n",
              "      <th>STDs:pelvic inflammatory disease</th>\n",
              "      <td>0.954033</td>\n",
              "    </tr>\n",
              "    <tr>\n",
              "      <th>STDs:Hepatitis B</th>\n",
              "      <td>0.585237</td>\n",
              "    </tr>\n",
              "    <tr>\n",
              "      <th>First sexual intercourse</th>\n",
              "      <td>0.374327</td>\n",
              "    </tr>\n",
              "    <tr>\n",
              "      <th>Number of sexual partners</th>\n",
              "      <td>0.228294</td>\n",
              "    </tr>\n",
              "    <tr>\n",
              "      <th>STDs</th>\n",
              "      <td>0.079547</td>\n",
              "    </tr>\n",
              "    <tr>\n",
              "      <th>Num of pregnancies</th>\n",
              "      <td>0.039929</td>\n",
              "    </tr>\n",
              "    <tr>\n",
              "      <th>STDs:HIV</th>\n",
              "      <td>-0.045409</td>\n",
              "    </tr>\n",
              "    <tr>\n",
              "      <th>Age</th>\n",
              "      <td>-0.185522</td>\n",
              "    </tr>\n",
              "    <tr>\n",
              "      <th>STDs:molluscum contagiosum</th>\n",
              "      <td>-0.882300</td>\n",
              "    </tr>\n",
              "    <tr>\n",
              "      <th>Hormonal Contraceptives</th>\n",
              "      <td>-0.937812</td>\n",
              "    </tr>\n",
              "    <tr>\n",
              "      <th>STDs:genital herpes</th>\n",
              "      <td>-1.561454</td>\n",
              "    </tr>\n",
              "    <tr>\n",
              "      <th>Smokes</th>\n",
              "      <td>-2.893062</td>\n",
              "    </tr>\n",
              "    <tr>\n",
              "      <th>STDs:condylomatosis</th>\n",
              "      <td>-6.156620</td>\n",
              "    </tr>\n",
              "    <tr>\n",
              "      <th>STDs:HPV</th>\n",
              "      <td>-71.167400</td>\n",
              "    </tr>\n",
              "  </tbody>\n",
              "</table>\n",
              "</div>"
            ],
            "text/plain": [
              "                                             0\n",
              "Dx:CIN                              222.012218\n",
              "Dx:Cancer                           143.811260\n",
              "Dx:HPV                               40.423215\n",
              "IUD                                   5.249377\n",
              "STDs:vulvo-perineal condylomatosis    5.120457\n",
              "STDs:syphilis                         1.279477\n",
              "STDs:vaginal condylomatosis           1.131441\n",
              "STDs:pelvic inflammatory disease      0.954033\n",
              "STDs:Hepatitis B                      0.585237\n",
              "First sexual intercourse              0.374327\n",
              "Number of sexual partners             0.228294\n",
              "STDs                                  0.079547\n",
              "Num of pregnancies                    0.039929\n",
              "STDs:HIV                             -0.045409\n",
              "Age                                  -0.185522\n",
              "STDs:molluscum contagiosum           -0.882300\n",
              "Hormonal Contraceptives              -0.937812\n",
              "STDs:genital herpes                  -1.561454\n",
              "Smokes                               -2.893062\n",
              "STDs:condylomatosis                  -6.156620\n",
              "STDs:HPV                            -71.167400"
            ]
          },
          "metadata": {},
          "execution_count": 230
        }
      ]
    },
    {
      "cell_type": "code",
      "metadata": {
        "id": "QSX1KgYhuiZs"
      },
      "source": [
        "# sliping target and feature dataset \n",
        "X = df[['Dx:CIN','Dx:Cancer','Dx:HPV','IUD','STDs:vulvo-perineal condylomatosis','STDs:HPV']]\n",
        "y =df['Dx']"
      ],
      "execution_count": null,
      "outputs": []
    },
    {
      "cell_type": "code",
      "metadata": {
        "id": "ghWfczqtuVrz"
      },
      "source": [
        "# spliting test and train dataset \n",
        "\n",
        "from sklearn.model_selection import train_test_split\n",
        "\n",
        "X_train, X_test, y_train, y_test = train_test_split(X, y, test_size=0.2, random_state=0)"
      ],
      "execution_count": null,
      "outputs": []
    },
    {
      "cell_type": "code",
      "metadata": {
        "id": "I2HVCu1MuGWM"
      },
      "source": [
        "# In this case we'll use random forest classification for making the predictions.\n",
        "# \n",
        "from sklearn.ensemble import RandomForestClassifier\n",
        "\n",
        "classifier = RandomForestClassifier(max_depth=2, random_state=0)\n",
        "classifier.fit(X_train, y_train)\n",
        "\n",
        "# Predicting the Test set results\n",
        "y_pred = classifier.predict(X_test)"
      ],
      "execution_count": null,
      "outputs": []
    },
    {
      "cell_type": "code",
      "metadata": {
        "id": "bu8kDLmmvP86",
        "colab": {
          "base_uri": "https://localhost:8080/"
        },
        "outputId": "2f17e408-3017-47b4-d879-c2928d4167a7"
      },
      "source": [
        "# Performance Evaluation\n",
        "# \n",
        "from sklearn.metrics import confusion_matrix\n",
        "from sklearn.metrics import accuracy_score\n",
        "\n",
        "cm = confusion_matrix(y_test, y_pred)\n",
        "print(cm)\n",
        "print('Accuracy' , accuracy_score(y_test, y_pred))"
      ],
      "execution_count": null,
      "outputs": [
        {
          "output_type": "stream",
          "name": "stdout",
          "text": [
            "[[162   0]\n",
            " [  4   1]]\n",
            "Accuracy 0.9760479041916168\n"
          ]
        }
      ]
    },
    {
      "cell_type": "code",
      "metadata": {
        "id": "TMpF_tb8wN6q",
        "colab": {
          "base_uri": "https://localhost:8080/",
          "height": 423
        },
        "outputId": "50bfc166-05f3-42f1-df00-1ac4d5cdb668"
      },
      "source": [
        "#converting Arry to dataframe \n",
        "# Check how accurate our Model is \n",
        "df_test = pd.DataFrame(y_test)\n",
        "df_test"
      ],
      "execution_count": null,
      "outputs": [
        {
          "output_type": "execute_result",
          "data": {
            "text/html": [
              "<div>\n",
              "<style scoped>\n",
              "    .dataframe tbody tr th:only-of-type {\n",
              "        vertical-align: middle;\n",
              "    }\n",
              "\n",
              "    .dataframe tbody tr th {\n",
              "        vertical-align: top;\n",
              "    }\n",
              "\n",
              "    .dataframe thead th {\n",
              "        text-align: right;\n",
              "    }\n",
              "</style>\n",
              "<table border=\"1\" class=\"dataframe\">\n",
              "  <thead>\n",
              "    <tr style=\"text-align: right;\">\n",
              "      <th></th>\n",
              "      <th>Dx</th>\n",
              "    </tr>\n",
              "  </thead>\n",
              "  <tbody>\n",
              "    <tr>\n",
              "      <th>747</th>\n",
              "      <td>1</td>\n",
              "    </tr>\n",
              "    <tr>\n",
              "      <th>638</th>\n",
              "      <td>0</td>\n",
              "    </tr>\n",
              "    <tr>\n",
              "      <th>31</th>\n",
              "      <td>0</td>\n",
              "    </tr>\n",
              "    <tr>\n",
              "      <th>739</th>\n",
              "      <td>0</td>\n",
              "    </tr>\n",
              "    <tr>\n",
              "      <th>412</th>\n",
              "      <td>0</td>\n",
              "    </tr>\n",
              "    <tr>\n",
              "      <th>...</th>\n",
              "      <td>...</td>\n",
              "    </tr>\n",
              "    <tr>\n",
              "      <th>338</th>\n",
              "      <td>0</td>\n",
              "    </tr>\n",
              "    <tr>\n",
              "      <th>2</th>\n",
              "      <td>0</td>\n",
              "    </tr>\n",
              "    <tr>\n",
              "      <th>827</th>\n",
              "      <td>0</td>\n",
              "    </tr>\n",
              "    <tr>\n",
              "      <th>792</th>\n",
              "      <td>0</td>\n",
              "    </tr>\n",
              "    <tr>\n",
              "      <th>794</th>\n",
              "      <td>0</td>\n",
              "    </tr>\n",
              "  </tbody>\n",
              "</table>\n",
              "<p>167 rows × 1 columns</p>\n",
              "</div>"
            ],
            "text/plain": [
              "     Dx\n",
              "747   1\n",
              "638   0\n",
              "31    0\n",
              "739   0\n",
              "412   0\n",
              "..   ..\n",
              "338   0\n",
              "2     0\n",
              "827   0\n",
              "792   0\n",
              "794   0\n",
              "\n",
              "[167 rows x 1 columns]"
            ]
          },
          "metadata": {},
          "execution_count": 247
        }
      ]
    },
    {
      "cell_type": "code",
      "metadata": {
        "colab": {
          "base_uri": "https://localhost:8080/"
        },
        "id": "Wq2dF-ivc5DB",
        "outputId": "0b4c5dd7-35d2-4017-83f4-2afea8cd088e"
      },
      "source": [
        "# using Patient 747 to check and it predicted correcly \n",
        "df.loc[747]"
      ],
      "execution_count": null,
      "outputs": [
        {
          "output_type": "execute_result",
          "data": {
            "text/plain": [
              "Age                                   26.0\n",
              "Number of sexual partners              2.0\n",
              "First sexual intercourse              15.0\n",
              "Num of pregnancies                     2.0\n",
              "Smokes                                 0.0\n",
              "Hormonal Contraceptives                1.0\n",
              "IUD                                    0.0\n",
              "STDs                                   0.0\n",
              "STDs:condylomatosis                    0.0\n",
              "STDs:vaginal condylomatosis            0.0\n",
              "STDs:vulvo-perineal condylomatosis     0.0\n",
              "STDs:syphilis                          0.0\n",
              "STDs:pelvic inflammatory disease       0.0\n",
              "STDs:genital herpes                    0.0\n",
              "STDs:molluscum contagiosum             0.0\n",
              "STDs:HIV                               0.0\n",
              "STDs:Hepatitis B                       0.0\n",
              "STDs:HPV                               0.0\n",
              "Dx:Cancer                              0.0\n",
              "Dx:CIN                                 1.0\n",
              "Dx:HPV                                 0.0\n",
              "Dx                                     1.0\n",
              "Name: 747, dtype: float64"
            ]
          },
          "metadata": {},
          "execution_count": 248
        }
      ]
    },
    {
      "cell_type": "markdown",
      "metadata": {
        "id": "At3ixAxXZ822"
      },
      "source": [
        "# **HYPOTHESIS TESTING**"
      ]
    },
    {
      "cell_type": "markdown",
      "metadata": {
        "id": "Z4etg5WNqihE"
      },
      "source": [
        "## Hypothesis \n",
        "\n",
        "\n",
        "1.   **Null Hypothesis**- HPV is one of the leading causes of cervical cancer\n",
        "2.   **Alternative Hypothesis** - HPV is not one of the leading causes of cervical cancer\n",
        "\n"
      ]
    },
    {
      "cell_type": "code",
      "metadata": {
        "id": "N3Zf1oNRaFVu",
        "colab": {
          "base_uri": "https://localhost:8080/",
          "height": 278
        },
        "outputId": "e2872fab-7d16-4b19-8e40-5ea2489ea041"
      },
      "source": [
        "# Sample Size \n",
        "# we used simple random sampling \n",
        "\n",
        "cancer_sample = df1.sample(n = 20, replace=\"False\")\n",
        "cancer_sample.head()"
      ],
      "execution_count": null,
      "outputs": [
        {
          "output_type": "execute_result",
          "data": {
            "text/html": [
              "<div>\n",
              "<style scoped>\n",
              "    .dataframe tbody tr th:only-of-type {\n",
              "        vertical-align: middle;\n",
              "    }\n",
              "\n",
              "    .dataframe tbody tr th {\n",
              "        vertical-align: top;\n",
              "    }\n",
              "\n",
              "    .dataframe thead th {\n",
              "        text-align: right;\n",
              "    }\n",
              "</style>\n",
              "<table border=\"1\" class=\"dataframe\">\n",
              "  <thead>\n",
              "    <tr style=\"text-align: right;\">\n",
              "      <th></th>\n",
              "      <th>Age</th>\n",
              "      <th>Number of sexual partners</th>\n",
              "      <th>First sexual intercourse</th>\n",
              "      <th>Num of pregnancies</th>\n",
              "      <th>Smokes</th>\n",
              "      <th>Hormonal Contraceptives</th>\n",
              "      <th>IUD</th>\n",
              "      <th>STDs</th>\n",
              "      <th>STDs:condylomatosis</th>\n",
              "      <th>STDs:vaginal condylomatosis</th>\n",
              "      <th>STDs:vulvo-perineal condylomatosis</th>\n",
              "      <th>STDs:syphilis</th>\n",
              "      <th>STDs:pelvic inflammatory disease</th>\n",
              "      <th>STDs:genital herpes</th>\n",
              "      <th>STDs:molluscum contagiosum</th>\n",
              "      <th>STDs:HIV</th>\n",
              "      <th>STDs:Hepatitis B</th>\n",
              "      <th>STDs:HPV</th>\n",
              "      <th>Dx:Cancer</th>\n",
              "      <th>Dx:CIN</th>\n",
              "      <th>Dx:HPV</th>\n",
              "      <th>Dx</th>\n",
              "    </tr>\n",
              "  </thead>\n",
              "  <tbody>\n",
              "    <tr>\n",
              "      <th>307</th>\n",
              "      <td>23</td>\n",
              "      <td>2.0</td>\n",
              "      <td>18.0</td>\n",
              "      <td>1.0</td>\n",
              "      <td>0.0</td>\n",
              "      <td>1.0</td>\n",
              "      <td>0</td>\n",
              "      <td>0.0</td>\n",
              "      <td>0.0</td>\n",
              "      <td>0.0</td>\n",
              "      <td>0.0</td>\n",
              "      <td>0.0</td>\n",
              "      <td>0.0</td>\n",
              "      <td>0.0</td>\n",
              "      <td>0.0</td>\n",
              "      <td>0.0</td>\n",
              "      <td>0.0</td>\n",
              "      <td>0.0</td>\n",
              "      <td>0</td>\n",
              "      <td>0</td>\n",
              "      <td>0</td>\n",
              "      <td>0</td>\n",
              "    </tr>\n",
              "    <tr>\n",
              "      <th>443</th>\n",
              "      <td>16</td>\n",
              "      <td>1.0</td>\n",
              "      <td>14.0</td>\n",
              "      <td>1.0</td>\n",
              "      <td>0.0</td>\n",
              "      <td>0.0</td>\n",
              "      <td>0</td>\n",
              "      <td>0.0</td>\n",
              "      <td>0.0</td>\n",
              "      <td>0.0</td>\n",
              "      <td>0.0</td>\n",
              "      <td>0.0</td>\n",
              "      <td>0.0</td>\n",
              "      <td>0.0</td>\n",
              "      <td>0.0</td>\n",
              "      <td>0.0</td>\n",
              "      <td>0.0</td>\n",
              "      <td>0.0</td>\n",
              "      <td>0</td>\n",
              "      <td>0</td>\n",
              "      <td>0</td>\n",
              "      <td>0</td>\n",
              "    </tr>\n",
              "    <tr>\n",
              "      <th>137</th>\n",
              "      <td>29</td>\n",
              "      <td>1.0</td>\n",
              "      <td>28.0</td>\n",
              "      <td>1.0</td>\n",
              "      <td>0.0</td>\n",
              "      <td>0.0</td>\n",
              "      <td>0</td>\n",
              "      <td>0.0</td>\n",
              "      <td>0.0</td>\n",
              "      <td>0.0</td>\n",
              "      <td>0.0</td>\n",
              "      <td>0.0</td>\n",
              "      <td>0.0</td>\n",
              "      <td>0.0</td>\n",
              "      <td>0.0</td>\n",
              "      <td>0.0</td>\n",
              "      <td>0.0</td>\n",
              "      <td>0.0</td>\n",
              "      <td>0</td>\n",
              "      <td>0</td>\n",
              "      <td>0</td>\n",
              "      <td>0</td>\n",
              "    </tr>\n",
              "    <tr>\n",
              "      <th>196</th>\n",
              "      <td>26</td>\n",
              "      <td>5.0</td>\n",
              "      <td>18.0</td>\n",
              "      <td>0.0</td>\n",
              "      <td>0.0</td>\n",
              "      <td>1.0</td>\n",
              "      <td>0</td>\n",
              "      <td>0.0</td>\n",
              "      <td>0.0</td>\n",
              "      <td>0.0</td>\n",
              "      <td>0.0</td>\n",
              "      <td>0.0</td>\n",
              "      <td>0.0</td>\n",
              "      <td>0.0</td>\n",
              "      <td>0.0</td>\n",
              "      <td>0.0</td>\n",
              "      <td>0.0</td>\n",
              "      <td>0.0</td>\n",
              "      <td>0</td>\n",
              "      <td>1</td>\n",
              "      <td>0</td>\n",
              "      <td>1</td>\n",
              "    </tr>\n",
              "    <tr>\n",
              "      <th>532</th>\n",
              "      <td>20</td>\n",
              "      <td>3.0</td>\n",
              "      <td>17.0</td>\n",
              "      <td>1.0</td>\n",
              "      <td>1.0</td>\n",
              "      <td>1.0</td>\n",
              "      <td>0</td>\n",
              "      <td>0.0</td>\n",
              "      <td>0.0</td>\n",
              "      <td>0.0</td>\n",
              "      <td>0.0</td>\n",
              "      <td>0.0</td>\n",
              "      <td>0.0</td>\n",
              "      <td>0.0</td>\n",
              "      <td>0.0</td>\n",
              "      <td>0.0</td>\n",
              "      <td>0.0</td>\n",
              "      <td>0.0</td>\n",
              "      <td>0</td>\n",
              "      <td>0</td>\n",
              "      <td>0</td>\n",
              "      <td>0</td>\n",
              "    </tr>\n",
              "  </tbody>\n",
              "</table>\n",
              "</div>"
            ],
            "text/plain": [
              "     Age  Number of sexual partners  ...  Dx:HPV  Dx\n",
              "307   23                        2.0  ...       0   0\n",
              "443   16                        1.0  ...       0   0\n",
              "137   29                        1.0  ...       0   0\n",
              "196   26                        5.0  ...       0   1\n",
              "532   20                        3.0  ...       0   0\n",
              "\n",
              "[5 rows x 22 columns]"
            ]
          },
          "metadata": {},
          "execution_count": 236
        }
      ]
    },
    {
      "cell_type": "code",
      "metadata": {
        "id": "tWXVo6XZanI3",
        "colab": {
          "base_uri": "https://localhost:8080/"
        },
        "outputId": "c516c82c-c26d-430f-9dd5-38992f438c7c"
      },
      "source": [
        "#Importing the necessary to be used for finding a z statistic\n",
        "from scipy import stats\n",
        "from statsmodels.stats import weightstats as stests\n",
        "ztest, pval = stests.ztest(cancer_sample['Dx:HPV'], x2 = cancer_sample['Dx'], value =0, alternative = 'two-sided')\n",
        "print(ztest, pval)\n",
        "\n",
        "#Setting our alpha to 0.05, but since this is a two tailed test we are going to use 0.025\n",
        "if pval < 0.025:\n",
        "  print('reject the null hypothesis')\n",
        "else:\n",
        "  print('fail to reject the null hypothesis')"
      ],
      "execution_count": null,
      "outputs": [
        {
          "output_type": "stream",
          "name": "stdout",
          "text": [
            "-1.0000000000000002 0.31731050786291404\n",
            "fail to reject the null hypothesis\n"
          ]
        }
      ]
    },
    {
      "cell_type": "markdown",
      "metadata": {
        "id": "_t_wr8QJY26g"
      },
      "source": [
        "## Summary Conclusion \n",
        "\n",
        " While HPV is a leading canse of cervical cancer , there are other higher risk factors that predispose one to cervical cancer;\n",
        "\n",
        "A CIN diagnosis has been seen to be the leading cause of cervical cancer.\n",
        "\n",
        " A diagnosis of any other cancer, apart from cervical cancer, is the second leading cause of cervical cancer\n",
        "\n",
        " A HPV diagnosis comes in third when it comes to a cervical cancer diagnosis\n",
        "\n"
      ]
    }
  ]
}